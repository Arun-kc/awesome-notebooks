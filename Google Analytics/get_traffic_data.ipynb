{
 "cells": [
  {
   "cell_type": "markdown",
   "metadata": {
    "execution": {
     "iopub.execute_input": "2021-02-23T14:22:16.610471Z",
     "iopub.status.busy": "2021-02-23T14:22:16.610129Z",
     "iopub.status.idle": "2021-02-23T14:22:16.627784Z",
     "shell.execute_reply": "2021-02-23T14:22:16.626866Z",
     "shell.execute_reply.started": "2021-02-23T14:22:16.610384Z"
    },
    "papermill": {},
    "tags": []
   },
   "source": [
    "<img width=\"10%\" alt=\"Naas\" src=\"https://landen.imgix.net/jtci2pxwjczr/assets/5ice39g4.png?w=160\"/>"
   ]
  },
  {
   "cell_type": "markdown",
   "metadata": {
    "papermill": {},
    "tags": []
   },
   "source": [
    "# Google Analyics - Get traffic data\n",
    "<a href=\"https://app.naas.ai/user-redirect/naas/downloader?url=https://raw.githubusercontent.com/jupyter-naas/awesome-notebooks/master/template.ipynb\" target=\"_parent\">\n",
    "<img src=\"https://img.shields.io/badge/-Open%20in%20Naas-success?labelColor=000000&logo=data:image/svg+xml;base64,PD94bWwgdmVyc2lvbj0iMS4wIiBlbmNvZGluZz0iVVRGLTgiPz4KPHN2ZyB3aWR0aD0iMTAyNHB4IiBoZWlnaHQ9IjEwMjRweCIgdmlld0JveD0iMCAwIDEwMjQgMTAyNCIgeG1sbnM9Imh0dHA6Ly93d3cudzMub3JnLzIwMDAvc3ZnIiB4bWxuczp4bGluaz0iaHR0cDovL3d3dy53My5vcmcvMTk5OS94bGluayIgdmVyc2lvbj0iMS4xIj4KIDwhLS0gR2VuZXJhdGVkIGJ5IFBpeGVsbWF0b3IgUHJvIDIuMC41IC0tPgogPGRlZnM+CiAgPHRleHQgaWQ9InN0cmluZyIgdHJhbnNmb3JtPSJtYXRyaXgoMS4wIDAuMCAwLjAgMS4wIDIyOC4wIDU0LjUpIiBmb250LWZhbWlseT0iQ29tZm9ydGFhLVJlZ3VsYXIsIENvbWZvcnRhYSIgZm9udC1zaXplPSI4MDAiIHRleHQtZGVjb3JhdGlvbj0ibm9uZSIgZmlsbD0iI2ZmZmZmZiIgeD0iMS4xOTk5OTk5OTk5OTk5ODg2IiB5PSI3MDUuMCI+bjwvdGV4dD4KIDwvZGVmcz4KIDx1c2UgaWQ9Im4iIHhsaW5rOmhyZWY9IiNzdHJpbmciLz4KPC9zdmc+Cg==\"/>\n",
    "</a>"
   ]
  },
  {
   "cell_type": "markdown",
   "metadata": {},
   "source": [
    "**Tags:** #gcp #ga #googleanalytics #webanalytic #trafficdata"
   ]
  },
  {
   "cell_type": "markdown",
   "metadata": {
    "papermill": {},
    "tags": []
   },
   "source": [
    "## Input"
   ]
  },
  {
   "cell_type": "markdown",
   "metadata": {},
   "source": [
    "### Import library"
   ]
  },
  {
   "cell_type": "code",
   "execution_count": 1,
   "metadata": {},
   "outputs": [],
   "source": [
    "import numpy as np\n",
    "import pandas as pd\n",
    "from google.oauth2 import service_account\n",
    "from apiclient.discovery import build\n",
    "\n",
    "#import naas_drivers"
   ]
  },
  {
   "cell_type": "markdown",
   "metadata": {},
   "source": [
    "### API Keys"
   ]
  },
  {
   "cell_type": "markdown",
   "metadata": {},
   "source": [
    "## Model"
   ]
  },
  {
   "cell_type": "markdown",
   "metadata": {},
   "source": [
    "### Function"
   ]
  },
  {
   "cell_type": "code",
   "execution_count": 2,
   "metadata": {},
   "outputs": [],
   "source": [
    "metrics = [\"ga:users\", \"ga:bounceRate\",  \"ga:avgTimeOnPage\", \"ga:uniquePageviews\"]\n",
    "metrics = [{\"expression\": m} for m in metrics]"
   ]
  },
  {
   "cell_type": "code",
   "execution_count": 3,
   "metadata": {},
   "outputs": [
    {
     "data": {
      "text/plain": [
       "[{'expression': 'ga:users'},\n",
       " {'expression': 'ga:bounceRate'},\n",
       " {'expression': 'ga:avgTimeOnPage'},\n",
       " {'expression': 'ga:uniquePageviews'}]"
      ]
     },
     "execution_count": 3,
     "metadata": {},
     "output_type": "execute_result"
    }
   ],
   "source": [
    "metrics"
   ]
  },
  {
   "cell_type": "code",
   "execution_count": null,
   "metadata": {},
   "outputs": [],
   "source": []
  },
  {
   "cell_type": "code",
   "execution_count": 63,
   "metadata": {},
   "outputs": [],
   "source": [
    "body_channel = {'reportRequests': [{'viewId': \"236707574\", \n",
    "                            'dateRanges': [{'startDate': '2021-01-01', 'endDate': '2021-12-31'}],\n",
    "                            'metrics': metrics,\n",
    "                            'dimensions': [{'name': 'ga:yearMonth'}],\n",
    "                            \"pivots\": [{\"dimensions\": [{\"name\": \"ga:channelGrouping\"}],\n",
    "                                        \"metrics\": metrics\n",
    "                                       }]\n",
    "                          }]}\n",
    "\n",
    "body_country = {'reportRequests': [{'viewId': \"236707574\", \n",
    "                            'dateRanges': [{'startDate': '2021-01-01', 'endDate': '2021-12-31'}],\n",
    "                            'metrics': [{\"expression\": \"ga:sessions\"}],\n",
    "                            'dimensions': [{'name': 'ga:year'}],\n",
    "                            \"pivots\": [{\"dimensions\": [{\"name\": \"ga:country\"}],\n",
    "                                        \"metrics\": [{\"expression\": \"ga:sessions\"}]\n",
    "                                       }]\n",
    "                          }]}\n",
    "\n",
    "\n",
    "body_pages = {'reportRequests': [{'viewId': \"236707574\", \n",
    "                            'dateRanges': [{'startDate': '2021-01-01', 'endDate': '2021-12-31'}],\n",
    "                            'metrics': [{\"expression\": \"ga:pageviews\"}],\n",
    "                            'dimensions': [{'name': 'ga:year'}],\n",
    "                            \"pivots\": [{\"dimensions\": [{\"name\": \"ga:pagePath\"}],\n",
    "                                        \"metrics\": [{\"expression\": \"ga:pageviews\"}]\n",
    "                                       }]\n",
    "                          }]}\n"
   ]
  },
  {
   "cell_type": "code",
   "execution_count": 5,
   "metadata": {},
   "outputs": [],
   "source": [
    "def format_summary(response):\n",
    "    try:\n",
    "        # create row index\n",
    "        try: \n",
    "            row_index_names = response['reports'][0]['columnHeader']['dimensions']\n",
    "            row_index = [ element['dimensions'] for element in response['reports'][0]['data']['rows'] ]\n",
    "            row_index_named = pd.MultiIndex.from_arrays(np.transpose(np.array(row_index)), \n",
    "                                                        names = np.array(row_index_names))\n",
    "        except:\n",
    "            row_index_named = None\n",
    "        \n",
    "        # extract column names\n",
    "        summary_column_names = [item['name'] for item in response['reports'][0]\n",
    "                                ['columnHeader']['metricHeader']['metricHeaderEntries']]\n",
    "    \n",
    "        # extract table values\n",
    "        summary_values = [element['metrics'][0]['values'] for element in response['reports'][0]['data']['rows']]\n",
    "    \n",
    "        # combine. I used type 'float' because default is object, and as far as I know, all values are numeric\n",
    "        df = pd.DataFrame(data = np.array(summary_values), \n",
    "                          index = row_index_named, \n",
    "                          columns = summary_column_names).astype('float')\n",
    "    \n",
    "    except:\n",
    "        df = pd.DataFrame()\n",
    "        \n",
    "    return df\n",
    "\n",
    "def format_pivot(response):\n",
    "    try:\n",
    "        # extract table values\n",
    "        pivot_values = [item['metrics'][0]['pivotValueRegions'][0]['values'] for item in response['reports'][0]\n",
    "                        ['data']['rows']]\n",
    "        \n",
    "        # create column index\n",
    "        top_header = [item['dimensionValues'] for item in response['reports'][0]\n",
    "                      ['columnHeader']['metricHeader']['pivotHeaders'][0]['pivotHeaderEntries']]\n",
    "        column_metrics = [item['metric']['name'] for item in response['reports'][0]\n",
    "                          ['columnHeader']['metricHeader']['pivotHeaders'][0]['pivotHeaderEntries']]\n",
    "        array = np.concatenate((np.array(top_header),\n",
    "                                np.array(column_metrics).reshape((len(column_metrics),1))), \n",
    "                               axis = 1)\n",
    "        column_index = pd.MultiIndex.from_arrays(np.transpose(array))\n",
    "        \n",
    "        # create row index\n",
    "        try:\n",
    "            row_index_names = response['reports'][0]['columnHeader']['dimensions']\n",
    "            row_index = [ element['dimensions'] for element in response['reports'][0]['data']['rows'] ]\n",
    "            row_index_named = pd.MultiIndex.from_arrays(np.transpose(np.array(row_index)), \n",
    "                                                        names = np.array(row_index_names))\n",
    "        except: \n",
    "            row_index_named = None\n",
    "        # combine into a dataframe\n",
    "        df = pd.DataFrame(data = np.array(pivot_values), \n",
    "                          index = row_index_named, \n",
    "                          columns = column_index).astype('float')\n",
    "    except:\n",
    "        df = pd.DataFrame()\n",
    "    return df\n",
    "\n",
    "def format_report(response):\n",
    "    summary = format_summary(response)\n",
    "    pivot = format_pivot(response)\n",
    "    if pivot.columns.nlevels == 2:\n",
    "        summary.columns = [['']*len(summary.columns), summary.columns]\n",
    "    \n",
    "    return(pd.concat([summary, pivot], axis = 1))"
   ]
  },
  {
   "cell_type": "code",
   "execution_count": 64,
   "metadata": {
    "execution": {
     "iopub.status.busy": "2021-02-23T14:28:14.665219Z",
     "iopub.status.idle": "2021-02-23T14:28:14.668943Z",
     "shell.execute_reply": "2021-02-23T14:28:14.666989Z"
    },
    "papermill": {},
    "tags": []
   },
   "outputs": [],
   "source": [
    "credentials = service_account.Credentials.from_service_account_file(\"naas-335023-93670af3d1df.json\", \n",
    "                                scopes = ['https://www.googleapis.com/auth/analytics.readonly'])\n",
    "service = build('analyticsreporting', 'v4', credentials=credentials)\n",
    "response = service.reports().batchGet(body=body_country).execute()\n"
   ]
  },
  {
   "cell_type": "code",
   "execution_count": 99,
   "metadata": {},
   "outputs": [],
   "source": [
    "country = format_pivot(response)\n",
    "country.columns = [c[0] for c in country.columns]\n",
    "#country.reset_index(inplace=True)"
   ]
  },
  {
   "cell_type": "code",
   "execution_count": 93,
   "metadata": {},
   "outputs": [
    {
     "data": {
      "text/plain": [
       "Index(['United States', 'France', 'China', 'Pakistan', 'Germany', 'India',\n",
       "       'United Kingdom', 'Ukraine', 'Philippines'],\n",
       "      dtype='object')"
      ]
     },
     "execution_count": 93,
     "metadata": {},
     "output_type": "execute_result"
    }
   ],
   "source": [
    "country.columns[1:]"
   ]
  },
  {
   "cell_type": "code",
   "execution_count": 100,
   "metadata": {},
   "outputs": [],
   "source": [
    "country = country.T\n",
    "country.reset_index(inplace=True)\n",
    "country.columns = [\"country\", \"session\"]"
   ]
  },
  {
   "cell_type": "code",
   "execution_count": 101,
   "metadata": {},
   "outputs": [
    {
     "data": {
      "text/html": [
       "<div>\n",
       "<style scoped>\n",
       "    .dataframe tbody tr th:only-of-type {\n",
       "        vertical-align: middle;\n",
       "    }\n",
       "\n",
       "    .dataframe tbody tr th {\n",
       "        vertical-align: top;\n",
       "    }\n",
       "\n",
       "    .dataframe thead th {\n",
       "        text-align: right;\n",
       "    }\n",
       "</style>\n",
       "<table border=\"1\" class=\"dataframe\">\n",
       "  <thead>\n",
       "    <tr style=\"text-align: right;\">\n",
       "      <th></th>\n",
       "      <th>country</th>\n",
       "      <th>session</th>\n",
       "    </tr>\n",
       "  </thead>\n",
       "  <tbody>\n",
       "    <tr>\n",
       "      <th>0</th>\n",
       "      <td>Canada</td>\n",
       "      <td>685.0</td>\n",
       "    </tr>\n",
       "    <tr>\n",
       "      <th>1</th>\n",
       "      <td>United States</td>\n",
       "      <td>197.0</td>\n",
       "    </tr>\n",
       "    <tr>\n",
       "      <th>2</th>\n",
       "      <td>France</td>\n",
       "      <td>64.0</td>\n",
       "    </tr>\n",
       "    <tr>\n",
       "      <th>3</th>\n",
       "      <td>China</td>\n",
       "      <td>27.0</td>\n",
       "    </tr>\n",
       "    <tr>\n",
       "      <th>4</th>\n",
       "      <td>Pakistan</td>\n",
       "      <td>17.0</td>\n",
       "    </tr>\n",
       "    <tr>\n",
       "      <th>5</th>\n",
       "      <td>Germany</td>\n",
       "      <td>13.0</td>\n",
       "    </tr>\n",
       "    <tr>\n",
       "      <th>6</th>\n",
       "      <td>India</td>\n",
       "      <td>13.0</td>\n",
       "    </tr>\n",
       "    <tr>\n",
       "      <th>7</th>\n",
       "      <td>United Kingdom</td>\n",
       "      <td>13.0</td>\n",
       "    </tr>\n",
       "    <tr>\n",
       "      <th>8</th>\n",
       "      <td>Ukraine</td>\n",
       "      <td>10.0</td>\n",
       "    </tr>\n",
       "    <tr>\n",
       "      <th>9</th>\n",
       "      <td>Philippines</td>\n",
       "      <td>9.0</td>\n",
       "    </tr>\n",
       "  </tbody>\n",
       "</table>\n",
       "</div>"
      ],
      "text/plain": [
       "          country  session\n",
       "0          Canada    685.0\n",
       "1   United States    197.0\n",
       "2          France     64.0\n",
       "3           China     27.0\n",
       "4        Pakistan     17.0\n",
       "5         Germany     13.0\n",
       "6           India     13.0\n",
       "7  United Kingdom     13.0\n",
       "8         Ukraine     10.0\n",
       "9     Philippines      9.0"
      ]
     },
     "execution_count": 101,
     "metadata": {},
     "output_type": "execute_result"
    }
   ],
   "source": [
    "country"
   ]
  },
  {
   "cell_type": "code",
   "execution_count": 73,
   "metadata": {},
   "outputs": [
    {
     "data": {
      "text/html": [
       "<div>\n",
       "<style scoped>\n",
       "    .dataframe tbody tr th:only-of-type {\n",
       "        vertical-align: middle;\n",
       "    }\n",
       "\n",
       "    .dataframe tbody tr th {\n",
       "        vertical-align: top;\n",
       "    }\n",
       "\n",
       "    .dataframe thead th {\n",
       "        text-align: right;\n",
       "    }\n",
       "</style>\n",
       "<table border=\"1\" class=\"dataframe\">\n",
       "  <thead>\n",
       "    <tr style=\"text-align: right;\">\n",
       "      <th></th>\n",
       "      <th>Canada</th>\n",
       "      <th>United States</th>\n",
       "      <th>France</th>\n",
       "      <th>China</th>\n",
       "      <th>Pakistan</th>\n",
       "      <th>Germany</th>\n",
       "      <th>India</th>\n",
       "      <th>United Kingdom</th>\n",
       "      <th>Ukraine</th>\n",
       "      <th>Philippines</th>\n",
       "    </tr>\n",
       "  </thead>\n",
       "  <tbody>\n",
       "    <tr>\n",
       "      <th>0</th>\n",
       "      <td>685.0</td>\n",
       "      <td>197.0</td>\n",
       "      <td>64.0</td>\n",
       "      <td>27.0</td>\n",
       "      <td>17.0</td>\n",
       "      <td>13.0</td>\n",
       "      <td>13.0</td>\n",
       "      <td>13.0</td>\n",
       "      <td>10.0</td>\n",
       "      <td>9.0</td>\n",
       "    </tr>\n",
       "  </tbody>\n",
       "</table>\n",
       "</div>"
      ],
      "text/plain": [
       "   Canada  United States  France  China  Pakistan  Germany  India  \\\n",
       "0   685.0          197.0    64.0   27.0      17.0     13.0   13.0   \n",
       "\n",
       "   United Kingdom  Ukraine  Philippines  \n",
       "0            13.0     10.0          9.0  "
      ]
     },
     "execution_count": 73,
     "metadata": {},
     "output_type": "execute_result"
    }
   ],
   "source": [
    "pd.DataFrame({key[0]: value for key, value in country.to_dict(\"records\")[0].items()}, index=[0])"
   ]
  },
  {
   "cell_type": "code",
   "execution_count": 20,
   "metadata": {},
   "outputs": [],
   "source": [
    "country.columns = [col[0] for col in country.columns]"
   ]
  },
  {
   "cell_type": "code",
   "execution_count": 62,
   "metadata": {},
   "outputs": [
    {
     "data": {
      "text/plain": [
       "[{'Canada': {'ga:users': 501.0}},\n",
       " {'Canada': {'ga:sessions': 685.0}},\n",
       " {'United States': {'ga:users': 159.0}},\n",
       " {'United States': {'ga:sessions': 197.0}},\n",
       " {'France': {'ga:users': 53.0}},\n",
       " {'France': {'ga:sessions': 64.0}},\n",
       " {'China': {'ga:users': 27.0}},\n",
       " {'China': {'ga:sessions': 27.0}},\n",
       " {'India': {'ga:users': 13.0}},\n",
       " {'India': {'ga:sessions': 13.0}},\n",
       " {'Germany': {'ga:users': 11.0}},\n",
       " {'Germany': {'ga:sessions': 13.0}},\n",
       " {'Pakistan': {'ga:users': 10.0}},\n",
       " {'Pakistan': {'ga:sessions': 17.0}},\n",
       " {'Ukraine': {'ga:users': 10.0}},\n",
       " {'Ukraine': {'ga:sessions': 10.0}},\n",
       " {'Philippines': {'ga:users': 8.0}},\n",
       " {'Philippines': {'ga:sessions': 9.0}},\n",
       " {'Australia': {'ga:users': 7.0}},\n",
       " {'Australia': {'ga:sessions': 7.0}}]"
      ]
     },
     "execution_count": 62,
     "metadata": {},
     "output_type": "execute_result"
    }
   ],
   "source": [
    "[{key[0]: {key[1]: value}} for key, value in country.to_dict(\"records\")[0].items()]"
   ]
  },
  {
   "cell_type": "code",
   "execution_count": 51,
   "metadata": {},
   "outputs": [
    {
     "data": {
      "text/html": [
       "<div>\n",
       "<style scoped>\n",
       "    .dataframe tbody tr th:only-of-type {\n",
       "        vertical-align: middle;\n",
       "    }\n",
       "\n",
       "    .dataframe tbody tr th {\n",
       "        vertical-align: top;\n",
       "    }\n",
       "\n",
       "    .dataframe thead tr th {\n",
       "        text-align: left;\n",
       "    }\n",
       "\n",
       "    .dataframe thead tr:last-of-type th {\n",
       "        text-align: right;\n",
       "    }\n",
       "</style>\n",
       "<table border=\"1\" class=\"dataframe\">\n",
       "  <thead>\n",
       "    <tr>\n",
       "      <th></th>\n",
       "      <th colspan=\"18\" halign=\"left\">2</th>\n",
       "    </tr>\n",
       "    <tr>\n",
       "      <th>1</th>\n",
       "      <th>ga:users</th>\n",
       "      <th>ga:sessions</th>\n",
       "      <th>ga:users</th>\n",
       "      <th>ga:sessions</th>\n",
       "      <th>ga:users</th>\n",
       "      <th>ga:sessions</th>\n",
       "      <th>ga:users</th>\n",
       "      <th>ga:sessions</th>\n",
       "      <th>ga:users</th>\n",
       "      <th>ga:sessions</th>\n",
       "      <th colspan=\"2\" halign=\"left\">ga:users</th>\n",
       "      <th colspan=\"2\" halign=\"left\">ga:sessions</th>\n",
       "      <th>ga:users</th>\n",
       "      <th>ga:sessions</th>\n",
       "      <th>ga:users</th>\n",
       "      <th>ga:sessions</th>\n",
       "    </tr>\n",
       "    <tr>\n",
       "      <th>2</th>\n",
       "      <th>501.0</th>\n",
       "      <th>685.0</th>\n",
       "      <th>159.0</th>\n",
       "      <th>197.0</th>\n",
       "      <th>53.0</th>\n",
       "      <th>64.0</th>\n",
       "      <th>27.0</th>\n",
       "      <th>27.0</th>\n",
       "      <th>13.0</th>\n",
       "      <th>13.0</th>\n",
       "      <th>11.0</th>\n",
       "      <th>10.0</th>\n",
       "      <th>17.0</th>\n",
       "      <th>10.0</th>\n",
       "      <th>8.0</th>\n",
       "      <th>9.0</th>\n",
       "      <th>7.0</th>\n",
       "      <th>7.0</th>\n",
       "    </tr>\n",
       "    <tr>\n",
       "      <th>0</th>\n",
       "      <th></th>\n",
       "      <th></th>\n",
       "      <th></th>\n",
       "      <th></th>\n",
       "      <th></th>\n",
       "      <th></th>\n",
       "      <th></th>\n",
       "      <th></th>\n",
       "      <th></th>\n",
       "      <th></th>\n",
       "      <th></th>\n",
       "      <th></th>\n",
       "      <th></th>\n",
       "      <th></th>\n",
       "      <th></th>\n",
       "      <th></th>\n",
       "      <th></th>\n",
       "      <th></th>\n",
       "    </tr>\n",
       "  </thead>\n",
       "  <tbody>\n",
       "    <tr>\n",
       "      <th>Australia</th>\n",
       "      <td>NaN</td>\n",
       "      <td>NaN</td>\n",
       "      <td>NaN</td>\n",
       "      <td>NaN</td>\n",
       "      <td>NaN</td>\n",
       "      <td>NaN</td>\n",
       "      <td>NaN</td>\n",
       "      <td>NaN</td>\n",
       "      <td>NaN</td>\n",
       "      <td>NaN</td>\n",
       "      <td>NaN</td>\n",
       "      <td>NaN</td>\n",
       "      <td>NaN</td>\n",
       "      <td>NaN</td>\n",
       "      <td>NaN</td>\n",
       "      <td>NaN</td>\n",
       "      <td>7.0</td>\n",
       "      <td>7.0</td>\n",
       "    </tr>\n",
       "    <tr>\n",
       "      <th>Canada</th>\n",
       "      <td>501.0</td>\n",
       "      <td>685.0</td>\n",
       "      <td>NaN</td>\n",
       "      <td>NaN</td>\n",
       "      <td>NaN</td>\n",
       "      <td>NaN</td>\n",
       "      <td>NaN</td>\n",
       "      <td>NaN</td>\n",
       "      <td>NaN</td>\n",
       "      <td>NaN</td>\n",
       "      <td>NaN</td>\n",
       "      <td>NaN</td>\n",
       "      <td>NaN</td>\n",
       "      <td>NaN</td>\n",
       "      <td>NaN</td>\n",
       "      <td>NaN</td>\n",
       "      <td>NaN</td>\n",
       "      <td>NaN</td>\n",
       "    </tr>\n",
       "    <tr>\n",
       "      <th>China</th>\n",
       "      <td>NaN</td>\n",
       "      <td>NaN</td>\n",
       "      <td>NaN</td>\n",
       "      <td>NaN</td>\n",
       "      <td>NaN</td>\n",
       "      <td>NaN</td>\n",
       "      <td>27.0</td>\n",
       "      <td>27.0</td>\n",
       "      <td>NaN</td>\n",
       "      <td>NaN</td>\n",
       "      <td>NaN</td>\n",
       "      <td>NaN</td>\n",
       "      <td>NaN</td>\n",
       "      <td>NaN</td>\n",
       "      <td>NaN</td>\n",
       "      <td>NaN</td>\n",
       "      <td>NaN</td>\n",
       "      <td>NaN</td>\n",
       "    </tr>\n",
       "    <tr>\n",
       "      <th>France</th>\n",
       "      <td>NaN</td>\n",
       "      <td>NaN</td>\n",
       "      <td>NaN</td>\n",
       "      <td>NaN</td>\n",
       "      <td>53.0</td>\n",
       "      <td>64.0</td>\n",
       "      <td>NaN</td>\n",
       "      <td>NaN</td>\n",
       "      <td>NaN</td>\n",
       "      <td>NaN</td>\n",
       "      <td>NaN</td>\n",
       "      <td>NaN</td>\n",
       "      <td>NaN</td>\n",
       "      <td>NaN</td>\n",
       "      <td>NaN</td>\n",
       "      <td>NaN</td>\n",
       "      <td>NaN</td>\n",
       "      <td>NaN</td>\n",
       "    </tr>\n",
       "    <tr>\n",
       "      <th>Germany</th>\n",
       "      <td>NaN</td>\n",
       "      <td>NaN</td>\n",
       "      <td>NaN</td>\n",
       "      <td>NaN</td>\n",
       "      <td>NaN</td>\n",
       "      <td>NaN</td>\n",
       "      <td>NaN</td>\n",
       "      <td>NaN</td>\n",
       "      <td>NaN</td>\n",
       "      <td>13.0</td>\n",
       "      <td>11.0</td>\n",
       "      <td>NaN</td>\n",
       "      <td>NaN</td>\n",
       "      <td>NaN</td>\n",
       "      <td>NaN</td>\n",
       "      <td>NaN</td>\n",
       "      <td>NaN</td>\n",
       "      <td>NaN</td>\n",
       "    </tr>\n",
       "    <tr>\n",
       "      <th>India</th>\n",
       "      <td>NaN</td>\n",
       "      <td>NaN</td>\n",
       "      <td>NaN</td>\n",
       "      <td>NaN</td>\n",
       "      <td>NaN</td>\n",
       "      <td>NaN</td>\n",
       "      <td>NaN</td>\n",
       "      <td>NaN</td>\n",
       "      <td>13.0</td>\n",
       "      <td>13.0</td>\n",
       "      <td>NaN</td>\n",
       "      <td>NaN</td>\n",
       "      <td>NaN</td>\n",
       "      <td>NaN</td>\n",
       "      <td>NaN</td>\n",
       "      <td>NaN</td>\n",
       "      <td>NaN</td>\n",
       "      <td>NaN</td>\n",
       "    </tr>\n",
       "    <tr>\n",
       "      <th>Pakistan</th>\n",
       "      <td>NaN</td>\n",
       "      <td>NaN</td>\n",
       "      <td>NaN</td>\n",
       "      <td>NaN</td>\n",
       "      <td>NaN</td>\n",
       "      <td>NaN</td>\n",
       "      <td>NaN</td>\n",
       "      <td>NaN</td>\n",
       "      <td>NaN</td>\n",
       "      <td>NaN</td>\n",
       "      <td>NaN</td>\n",
       "      <td>10.0</td>\n",
       "      <td>17.0</td>\n",
       "      <td>NaN</td>\n",
       "      <td>NaN</td>\n",
       "      <td>NaN</td>\n",
       "      <td>NaN</td>\n",
       "      <td>NaN</td>\n",
       "    </tr>\n",
       "    <tr>\n",
       "      <th>Philippines</th>\n",
       "      <td>NaN</td>\n",
       "      <td>NaN</td>\n",
       "      <td>NaN</td>\n",
       "      <td>NaN</td>\n",
       "      <td>NaN</td>\n",
       "      <td>NaN</td>\n",
       "      <td>NaN</td>\n",
       "      <td>NaN</td>\n",
       "      <td>NaN</td>\n",
       "      <td>NaN</td>\n",
       "      <td>NaN</td>\n",
       "      <td>NaN</td>\n",
       "      <td>NaN</td>\n",
       "      <td>NaN</td>\n",
       "      <td>8.0</td>\n",
       "      <td>9.0</td>\n",
       "      <td>NaN</td>\n",
       "      <td>NaN</td>\n",
       "    </tr>\n",
       "    <tr>\n",
       "      <th>Ukraine</th>\n",
       "      <td>NaN</td>\n",
       "      <td>NaN</td>\n",
       "      <td>NaN</td>\n",
       "      <td>NaN</td>\n",
       "      <td>NaN</td>\n",
       "      <td>NaN</td>\n",
       "      <td>NaN</td>\n",
       "      <td>NaN</td>\n",
       "      <td>NaN</td>\n",
       "      <td>NaN</td>\n",
       "      <td>NaN</td>\n",
       "      <td>10.0</td>\n",
       "      <td>NaN</td>\n",
       "      <td>10.0</td>\n",
       "      <td>NaN</td>\n",
       "      <td>NaN</td>\n",
       "      <td>NaN</td>\n",
       "      <td>NaN</td>\n",
       "    </tr>\n",
       "    <tr>\n",
       "      <th>United States</th>\n",
       "      <td>NaN</td>\n",
       "      <td>NaN</td>\n",
       "      <td>159.0</td>\n",
       "      <td>197.0</td>\n",
       "      <td>NaN</td>\n",
       "      <td>NaN</td>\n",
       "      <td>NaN</td>\n",
       "      <td>NaN</td>\n",
       "      <td>NaN</td>\n",
       "      <td>NaN</td>\n",
       "      <td>NaN</td>\n",
       "      <td>NaN</td>\n",
       "      <td>NaN</td>\n",
       "      <td>NaN</td>\n",
       "      <td>NaN</td>\n",
       "      <td>NaN</td>\n",
       "      <td>NaN</td>\n",
       "      <td>NaN</td>\n",
       "    </tr>\n",
       "  </tbody>\n",
       "</table>\n",
       "</div>"
      ],
      "text/plain": [
       "                     2                                                        \\\n",
       "1             ga:users ga:sessions ga:users ga:sessions ga:users ga:sessions   \n",
       "2                501.0       685.0    159.0       197.0    53.0        64.0    \n",
       "0                                                                              \n",
       "Australia          NaN         NaN      NaN         NaN      NaN         NaN   \n",
       "Canada           501.0       685.0      NaN         NaN      NaN         NaN   \n",
       "China              NaN         NaN      NaN         NaN      NaN         NaN   \n",
       "France             NaN         NaN      NaN         NaN     53.0        64.0   \n",
       "Germany            NaN         NaN      NaN         NaN      NaN         NaN   \n",
       "India              NaN         NaN      NaN         NaN      NaN         NaN   \n",
       "Pakistan           NaN         NaN      NaN         NaN      NaN         NaN   \n",
       "Philippines        NaN         NaN      NaN         NaN      NaN         NaN   \n",
       "Ukraine            NaN         NaN      NaN         NaN      NaN         NaN   \n",
       "United States      NaN         NaN    159.0       197.0      NaN         NaN   \n",
       "\n",
       "                                                                        \\\n",
       "1             ga:users ga:sessions ga:users ga:sessions ga:users         \n",
       "2                27.0        27.0     13.0        13.0     11.0  10.0    \n",
       "0                                                                        \n",
       "Australia          NaN         NaN      NaN         NaN      NaN   NaN   \n",
       "Canada             NaN         NaN      NaN         NaN      NaN   NaN   \n",
       "China             27.0        27.0      NaN         NaN      NaN   NaN   \n",
       "France             NaN         NaN      NaN         NaN      NaN   NaN   \n",
       "Germany            NaN         NaN      NaN        13.0     11.0   NaN   \n",
       "India              NaN         NaN     13.0        13.0      NaN   NaN   \n",
       "Pakistan           NaN         NaN      NaN         NaN      NaN  10.0   \n",
       "Philippines        NaN         NaN      NaN         NaN      NaN   NaN   \n",
       "Ukraine            NaN         NaN      NaN         NaN      NaN  10.0   \n",
       "United States      NaN         NaN      NaN         NaN      NaN   NaN   \n",
       "\n",
       "                                                                           \n",
       "1             ga:sessions       ga:users ga:sessions ga:users ga:sessions  \n",
       "2                   17.0  10.0     8.0         9.0      7.0         7.0    \n",
       "0                                                                          \n",
       "Australia             NaN   NaN      NaN         NaN      7.0         7.0  \n",
       "Canada                NaN   NaN      NaN         NaN      NaN         NaN  \n",
       "China                 NaN   NaN      NaN         NaN      NaN         NaN  \n",
       "France                NaN   NaN      NaN         NaN      NaN         NaN  \n",
       "Germany               NaN   NaN      NaN         NaN      NaN         NaN  \n",
       "India                 NaN   NaN      NaN         NaN      NaN         NaN  \n",
       "Pakistan             17.0   NaN      NaN         NaN      NaN         NaN  \n",
       "Philippines           NaN   NaN      8.0         9.0      NaN         NaN  \n",
       "Ukraine               NaN  10.0      NaN         NaN      NaN         NaN  \n",
       "United States         NaN   NaN      NaN         NaN      NaN         NaN  "
      ]
     },
     "execution_count": 51,
     "metadata": {},
     "output_type": "execute_result"
    }
   ],
   "source": [
    " pd.DataFrame([[c, m, v] for (c, m), v in country.to_dict(\"records\")[0].items()]).pivot(index=[0], columns=[1, 2], values=[2])"
   ]
  },
  {
   "cell_type": "code",
   "execution_count": null,
   "metadata": {},
   "outputs": [],
   "source": [
    "{}"
   ]
  },
  {
   "cell_type": "markdown",
   "metadata": {
    "execution": {
     "iopub.execute_input": "2021-07-02T23:32:10.789097Z",
     "iopub.status.busy": "2021-07-02T23:32:10.788829Z",
     "iopub.status.idle": "2021-07-02T23:32:10.796900Z",
     "shell.execute_reply": "2021-07-02T23:32:10.796358Z",
     "shell.execute_reply.started": "2021-07-02T23:32:10.789033Z"
    }
   },
   "source": [
    "## Output"
   ]
  },
  {
   "cell_type": "markdown",
   "metadata": {},
   "source": [
    "### Display result"
   ]
  },
  {
   "cell_type": "code",
   "execution_count": null,
   "metadata": {},
   "outputs": [],
   "source": [
    "df.reset_index()"
   ]
  },
  {
   "cell_type": "code",
   "execution_count": null,
   "metadata": {},
   "outputs": [],
   "source": []
  }
 ],
 "metadata": {
  "interpreter": {
   "hash": "aee8b7b246df8f9039afb4144a1f6fd8d2ca17a180786b69acc140d282b71a49"
  },
  "kernelspec": {
   "display_name": "Python 3.9.8 64-bit",
   "name": "python3"
  },
  "language_info": {
   "name": "python",
   "version": ""
  },
  "papermill": {
   "default_parameters": {},
   "environment_variables": {},
   "parameters": {},
   "version": "2.3.3"
  },
  "widgets": {
   "application/vnd.jupyter.widget-state+json": {
    "state": {},
    "version_major": 2,
    "version_minor": 0
   }
  }
 },
 "nbformat": 4,
 "nbformat_minor": 5
}