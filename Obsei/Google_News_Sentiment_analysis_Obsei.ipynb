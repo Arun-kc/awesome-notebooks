{
 "cells": [
  {
   "cell_type": "markdown",
   "id": "b8044826-9462-41d8-b07f-c1c01ef94df3",
   "metadata": {},
   "source": [
    "<img width=\"10%\" alt=\"Naas\" src=\"https://landen.imgix.net/jtci2pxwjczr/assets/5ice39g4.png?w=160\"/>\n"
   ]
  },
  {
   "cell_type": "markdown",
   "id": "b71142b9-8bff-4ecd-a180-44a7f98a6ba0",
   "metadata": {},
   "source": [
    "# Obsei - Google News sentiment analysis\n",
    "<a href=\"https://app.naas.ai/user-redirect/naas/downloader?url=https://raw.githubusercontent.com/jupyter-naas/awesome-notebooks/master/template.ipynb\" target=\"_parent\">\n",
    "<img src=\"https://img.shields.io/badge/-Open%20in%20Naas-success?labelColor=000000&logo=data:image/svg+xml;base64,PD94bWwgdmVyc2lvbj0iMS4wIiBlbmNvZGluZz0iVVRGLTgiPz4KPHN2ZyB3aWR0aD0iMTAyNHB4IiBoZWlnaHQ9IjEwMjRweCIgdmlld0JveD0iMCAwIDEwMjQgMTAyNCIgeG1sbnM9Imh0dHA6Ly93d3cudzMub3JnLzIwMDAvc3ZnIiB4bWxuczp4bGluaz0iaHR0cDovL3d3dy53My5vcmcvMTk5OS94bGluayIgdmVyc2lvbj0iMS4xIj4KIDwhLS0gR2VuZXJhdGVkIGJ5IFBpeGVsbWF0b3IgUHJvIDIuMC41IC0tPgogPGRlZnM+CiAgPHRleHQgaWQ9InN0cmluZyIgdHJhbnNmb3JtPSJtYXRyaXgoMS4wIDAuMCAwLjAgMS4wIDIyOC4wIDU0LjUpIiBmb250LWZhbWlseT0iQ29tZm9ydGFhLVJlZ3VsYXIsIENvbWZvcnRhYSIgZm9udC1zaXplPSI4MDAiIHRleHQtZGVjb3JhdGlvbj0ibm9uZSIgZmlsbD0iI2ZmZmZmZiIgeD0iMS4xOTk5OTk5OTk5OTk5ODg2IiB5PSI3MDUuMCI+bjwvdGV4dD4KIDwvZGVmcz4KIDx1c2UgaWQ9Im4iIHhsaW5rOmhyZWY9IiNzdHJpbmciLz4KPC9zdmc+Cg==\"/>\n",
    "</a>"
   ]
  },
  {
   "cell_type": "markdown",
   "id": "054338fa-a20c-48b0-bd88-0f39bad431fa",
   "metadata": {},
   "source": [
    "**Tags:** #obsei #googlenews #sentimentanalysis"
   ]
  },
  {
   "cell_type": "markdown",
   "id": "d20690b6-1725-49d9-ae69-46c3ca3cf256",
   "metadata": {
    "execution": {
     "iopub.execute_input": "2021-12-22T01:43:05.496179Z",
     "iopub.status.busy": "2021-12-22T01:43:05.495825Z",
     "iopub.status.idle": "2021-12-22T01:43:05.499746Z",
     "shell.execute_reply": "2021-12-22T01:43:05.499138Z",
     "shell.execute_reply.started": "2021-12-22T01:43:05.496090Z"
    }
   },
   "source": [
    "# Input"
   ]
  },
  {
   "cell_type": "markdown",
   "id": "e771555e-0843-4f07-889b-95dc3e9e14c9",
   "metadata": {},
   "source": [
    "## Install package"
   ]
  },
  {
   "cell_type": "code",
   "execution_count": 1,
   "id": "1b6fbe51-5105-44cd-ae47-16e9f670c8ca",
   "metadata": {
    "execution": {
     "iopub.execute_input": "2021-12-22T01:56:17.146609Z",
     "iopub.status.busy": "2021-12-22T01:56:17.146258Z",
     "iopub.status.idle": "2021-12-22T01:58:13.587655Z",
     "shell.execute_reply": "2021-12-22T01:58:13.585635Z",
     "shell.execute_reply.started": "2021-12-22T01:56:17.146522Z"
    },
    "tags": []
   },
   "outputs": [
    {
     "name": "stdout",
     "output_type": "stream",
     "text": [
      "\u001b[33mWARNING: Ignoring invalid distribution -umpy (/opt/conda/lib/python3.8/site-packages)\u001b[0m\n",
      "\u001b[33mWARNING: Ignoring invalid distribution -lick (/opt/conda/lib/python3.8/site-packages)\u001b[0m\n",
      "\u001b[33mWARNING: Ignoring invalid distribution -umpy (/opt/conda/lib/python3.8/site-packages)\u001b[0m\n",
      "\u001b[33mWARNING: Ignoring invalid distribution -lick (/opt/conda/lib/python3.8/site-packages)\u001b[0m\n",
      "Collecting git+https://github.com/lalitpagaria/obsei.git\n",
      "  Cloning https://github.com/lalitpagaria/obsei.git to /tmp/pip-req-build-38wcxs7q\n",
      "  Running command git clone --filter=blob:none -q https://github.com/lalitpagaria/obsei.git /tmp/pip-req-build-38wcxs7q\n",
      "  Resolved https://github.com/lalitpagaria/obsei.git to commit e2c01d4beb36c2f25d177fe4a79bb194f9305852\n",
      "  Preparing metadata (setup.py) ... \u001b[?25ldone\n",
      "\u001b[?25hCollecting app-store-reviews-reader==1.2\n",
      "  Using cached app_store_reviews_reader-1.2-py3-none-any.whl (8.4 kB)\n",
      "Collecting atlassian-python-api==3.14.1\n",
      "  Using cached atlassian_python_api-3.14.1-py3-none-any.whl\n",
      "Requirement already satisfied: beautifulsoup4==4.9.3 in /opt/conda/lib/python3.8/site-packages (from obsei==0.0.10) (4.9.3)\n",
      "Collecting blis==0.7.5\n",
      "  Using cached blis-0.7.5-cp38-cp38-manylinux_2_17_x86_64.manylinux2014_x86_64.whl (9.9 MB)\n",
      "Requirement already satisfied: bs4==0.0.1 in /opt/conda/lib/python3.8/site-packages (from obsei==0.0.10) (0.0.1)\n",
      "Requirement already satisfied: cachetools==4.2.4 in /opt/conda/lib/python3.8/site-packages (from obsei==0.0.10) (4.2.4)\n",
      "Collecting catalogue==2.0.6\n",
      "  Using cached catalogue-2.0.6-py3-none-any.whl (17 kB)\n",
      "Collecting certifi==2021.10.8\n",
      "  Using cached certifi-2021.10.8-py2.py3-none-any.whl (149 kB)\n",
      "Requirement already satisfied: chardet==4.0.0 in /opt/conda/lib/python3.8/site-packages (from obsei==0.0.10) (4.0.0)\n",
      "Collecting charset-normalizer==2.0.9\n",
      "  Using cached charset_normalizer-2.0.9-py3-none-any.whl (39 kB)\n",
      "Requirement already satisfied: click>=7.0 in /opt/conda/lib/python3.8/site-packages (from obsei==0.0.10) (8.0.3)\n",
      "Requirement already satisfied: colorama==0.4.4 in /opt/conda/lib/python3.8/site-packages (from obsei==0.0.10) (0.4.4)\n",
      "Collecting courlan==0.6.0\n",
      "  Using cached courlan-0.6.0-py3-none-any.whl (26 kB)\n",
      "Collecting cssselect==1.1.0\n",
      "  Using cached cssselect-1.1.0-py2.py3-none-any.whl (16 kB)\n",
      "Collecting cymem==2.0.6\n",
      "  Using cached cymem-2.0.6-cp38-cp38-manylinux_2_17_x86_64.manylinux2014_x86_64.whl (36 kB)\n",
      "Collecting dataclasses-json==0.5.6\n",
      "  Using cached dataclasses_json-0.5.6-py3-none-any.whl (25 kB)\n",
      "Collecting dateparser==1.1.0\n",
      "  Using cached dateparser-1.1.0-py2.py3-none-any.whl (288 kB)\n",
      "Collecting deprecated==1.2.13\n",
      "  Using cached Deprecated-1.2.13-py2.py3-none-any.whl (9.6 kB)\n",
      "Requirement already satisfied: dnspython==1.16.0 in /opt/conda/lib/python3.8/site-packages (from obsei==0.0.10) (1.16.0)\n",
      "Collecting elasticsearch==7.16.1\n",
      "  Using cached elasticsearch-7.16.1-py2.py3-none-any.whl (385 kB)\n",
      "Collecting feedparser==6.0.8\n",
      "  Using cached feedparser-6.0.8-py3-none-any.whl (81 kB)\n",
      "Requirement already satisfied: filelock==3.4.0 in /opt/conda/lib/python3.8/site-packages (from obsei==0.0.10) (3.4.0)\n",
      "Collecting gnews==0.2.7\n",
      "  Using cached gnews-0.2.7-py3-none-any.whl (14 kB)\n",
      "Collecting google-api-core==2.3.0\n",
      "  Using cached google_api_core-2.3.0-py2.py3-none-any.whl (109 kB)\n",
      "Collecting google-api-python-client==2.33.0\n",
      "  Using cached google_api_python_client-2.33.0-py2.py3-none-any.whl (7.9 MB)\n",
      "Collecting google-auth==2.3.3\n",
      "  Using cached google_auth-2.3.3-py2.py3-none-any.whl (155 kB)\n",
      "Requirement already satisfied: google-auth-httplib2==0.1.0 in /opt/conda/lib/python3.8/site-packages (from obsei==0.0.10) (0.1.0)\n",
      "Collecting google-play-scraper==1.0.2\n",
      "  Using cached google_play_scraper-1.0.2-py3-none-any.whl\n",
      "Collecting googleapis-common-protos==1.54.0\n",
      "  Using cached googleapis_common_protos-1.54.0-py2.py3-none-any.whl (207 kB)\n",
      "Collecting greenlet==1.1.2\n",
      "  Using cached greenlet-1.1.2-cp38-cp38-manylinux_2_17_x86_64.manylinux2014_x86_64.whl (156 kB)\n",
      "Collecting htmldate==1.0.0\n",
      "  Using cached htmldate-1.0.0-py3-none-any.whl (30 kB)\n",
      "Requirement already satisfied: httplib2==0.20.2 in /opt/conda/lib/python3.8/site-packages (from obsei==0.0.10) (0.20.2)\n",
      "Collecting huggingface-hub==0.2.1\n",
      "  Using cached huggingface_hub-0.2.1-py3-none-any.whl (61 kB)\n",
      "Collecting idna==3.3\n",
      "  Using cached idna-3.3-py3-none-any.whl (61 kB)\n",
      "Collecting jinja2==3.0.3\n",
      "  Using cached Jinja2-3.0.3-py3-none-any.whl (133 kB)\n",
      "Collecting joblib==1.1.0\n",
      "  Using cached joblib-1.1.0-py2.py3-none-any.whl (306 kB)\n",
      "Collecting justext==3.0.0\n",
      "  Using cached jusText-3.0.0-py2.py3-none-any.whl (837 kB)\n",
      "Collecting langcodes==3.3.0\n",
      "  Using cached langcodes-3.3.0-py3-none-any.whl (181 kB)\n",
      "Collecting lxml==4.7.1\n",
      "  Using cached lxml-4.7.1-cp38-cp38-manylinux_2_17_x86_64.manylinux2014_x86_64.manylinux_2_24_x86_64.whl (6.9 MB)\n",
      "Collecting markupsafe==2.0.1\n",
      "  Using cached MarkupSafe-2.0.1-cp38-cp38-manylinux_2_5_x86_64.manylinux1_x86_64.manylinux_2_12_x86_64.manylinux2010_x86_64.whl (30 kB)\n",
      "Collecting marshmallow==3.14.1\n",
      "  Using cached marshmallow-3.14.1-py3-none-any.whl (47 kB)\n",
      "Collecting marshmallow-enum==1.5.1\n",
      "  Using cached marshmallow_enum-1.5.1-py2.py3-none-any.whl (4.2 kB)\n",
      "Collecting mmh3==3.0.0\n",
      "  Using cached mmh3-3.0.0-cp38-cp38-manylinux2010_x86_64.whl (50 kB)\n",
      "Collecting murmurhash==1.0.6\n",
      "  Using cached murmurhash-1.0.6-cp38-cp38-manylinux_2_5_x86_64.manylinux1_x86_64.manylinux_2_17_x86_64.manylinux2014_x86_64.whl (21 kB)\n",
      "Requirement already satisfied: mypy-extensions==0.4.3 in /opt/conda/lib/python3.8/site-packages (from obsei==0.0.10) (0.4.3)\n",
      "Collecting nltk==3.6.5\n",
      "  Using cached nltk-3.6.5-py3-none-any.whl (1.5 MB)\n",
      "Collecting numpy==1.21.4\n",
      "  Using cached numpy-1.21.4-cp38-cp38-manylinux_2_12_x86_64.manylinux2010_x86_64.whl (15.7 MB)\n",
      "Collecting oauthlib==3.1.1\n",
      "  Using cached oauthlib-3.1.1-py2.py3-none-any.whl (146 kB)\n",
      "Collecting packaging==21.3\n",
      "  Using cached packaging-21.3-py3-none-any.whl (40 kB)\n",
      "Collecting pandas==1.3.5\n",
      "  Using cached pandas-1.3.5-cp38-cp38-manylinux_2_17_x86_64.manylinux2014_x86_64.whl (11.5 MB)\n",
      "Collecting pathy==0.6.1\n",
      "  Using cached pathy-0.6.1-py3-none-any.whl (42 kB)\n",
      "Collecting phonenumbers==8.12.39\n",
      "  Using cached phonenumbers-8.12.39-py2.py3-none-any.whl (2.6 MB)\n",
      "Collecting praw==7.5.0\n",
      "  Using cached praw-7.5.0-py3-none-any.whl (176 kB)\n",
      "Collecting prawcore==2.3.0\n",
      "  Using cached prawcore-2.3.0-py3-none-any.whl (16 kB)\n",
      "Collecting preshed==3.0.6\n",
      "  Using cached preshed-3.0.6-cp38-cp38-manylinux_2_5_x86_64.manylinux1_x86_64.manylinux_2_17_x86_64.manylinux2014_x86_64.whl (130 kB)\n",
      "Collecting presidio-analyzer==2.2.23\n",
      "  Using cached presidio_analyzer-2.2.23-py3-none-any.whl (57 kB)\n",
      "Collecting presidio-anonymizer==2.2.23\n",
      "  Using cached presidio_anonymizer-2.2.23-py3-none-any.whl (25 kB)\n",
      "Requirement already satisfied: protobuf==3.19.1 in /opt/conda/lib/python3.8/site-packages (from obsei==0.0.10) (3.19.1)\n",
      "Requirement already satisfied: pyasn1==0.4.8 in /opt/conda/lib/python3.8/site-packages (from obsei==0.0.10) (0.4.8)\n",
      "Requirement already satisfied: pyasn1-modules==0.2.8 in /opt/conda/lib/python3.8/site-packages (from obsei==0.0.10) (0.2.8)\n",
      "Collecting pycryptodome==3.12.0\n",
      "  Using cached pycryptodome-3.12.0-cp35-abi3-manylinux2010_x86_64.whl (2.0 MB)\n",
      "Requirement already satisfied: pydantic==1.8.2 in /opt/conda/lib/python3.8/site-packages (from obsei==0.0.10) (1.8.2)\n",
      "Collecting pymongo==3.12.3\n",
      "  Using cached pymongo-3.12.3-cp38-cp38-manylinux_2_17_x86_64.manylinux2014_x86_64.whl (527 kB)\n",
      "Collecting pyparsing==3.0.6\n",
      "  Using cached pyparsing-3.0.6-py3-none-any.whl (97 kB)\n",
      "Collecting python-dateutil==2.8.2\n",
      "  Using cached python_dateutil-2.8.2-py2.py3-none-any.whl (247 kB)\n",
      "Collecting python-dotenv==0.19.2\n",
      "  Using cached python_dotenv-0.19.2-py2.py3-none-any.whl (17 kB)\n",
      "Collecting python-facebook-api==0.12.4\n",
      "  Using cached python_facebook_api-0.12.4-py3-none-any.whl (72 kB)\n",
      "Collecting pytz==2021.3\n",
      "  Using cached pytz-2021.3-py2.py3-none-any.whl (503 kB)\n",
      "Requirement already satisfied: pytz-deprecation-shim==0.1.0.post0 in /opt/conda/lib/python3.8/site-packages (from obsei==0.0.10) (0.1.0.post0)\n",
      "Requirement already satisfied: pyyaml==6.0 in /opt/conda/lib/python3.8/site-packages (from obsei==0.0.10) (6.0)\n",
      "Collecting readability-lxml==0.8.1\n",
      "  Using cached readability_lxml-0.8.1-py3-none-any.whl (20 kB)\n",
      "Collecting reddit-rss-reader==1.3.2\n",
      "  Using cached reddit_rss_reader-1.3.2-py3-none-any.whl (8.5 kB)\n",
      "Requirement already satisfied: regex==2021.11.10 in /opt/conda/lib/python3.8/site-packages (from obsei==0.0.10) (2021.11.10)\n",
      "Collecting requests==2.26.0\n",
      "  Using cached requests-2.26.0-py2.py3-none-any.whl (62 kB)\n",
      "Collecting requests-file==1.5.1\n",
      "  Using cached requests_file-1.5.1-py2.py3-none-any.whl (3.7 kB)\n",
      "Requirement already satisfied: requests-oauthlib==1.3.0 in /opt/conda/lib/python3.8/site-packages (from obsei==0.0.10) (1.3.0)\n",
      "Requirement already satisfied: rsa==4.8 in /opt/conda/lib/python3.8/site-packages (from obsei==0.0.10) (4.8)\n",
      "Requirement already satisfied: sacremoses==0.0.46 in /opt/conda/lib/python3.8/site-packages (from obsei==0.0.10) (0.0.46)\n",
      "Collecting searchtweets-v2==1.1.1\n",
      "  Using cached searchtweets_v2-1.1.1-py3-none-any.whl (32 kB)\n",
      "Collecting sentencepiece==0.1.96\n",
      "  Using cached sentencepiece-0.1.96-cp38-cp38-manylinux_2_17_x86_64.manylinux2014_x86_64.whl (1.2 MB)\n",
      "Collecting sgmllib3k==1.0.0\n",
      "  Using cached sgmllib3k-1.0.0-py3-none-any.whl\n",
      "Requirement already satisfied: six==1.16.0 in /opt/conda/lib/python3.8/site-packages (from obsei==0.0.10) (1.16.0)\n",
      "Collecting slack-sdk==3.13.0\n",
      "  Using cached slack_sdk-3.13.0-py2.py3-none-any.whl (260 kB)\n",
      "Collecting smart-open==5.2.1\n",
      "  Using cached smart_open-5.2.1-py3-none-any.whl (58 kB)\n",
      "Requirement already satisfied: soupsieve==2.3.1 in /opt/conda/lib/python3.8/site-packages (from obsei==0.0.10) (2.3.1)\n",
      "Collecting spacy==3.2.1\n",
      "  Using cached spacy-3.2.1-cp38-cp38-manylinux_2_17_x86_64.manylinux2014_x86_64.whl (6.2 MB)\n",
      "Collecting spacy-legacy==3.0.8\n",
      "  Using cached spacy_legacy-3.0.8-py2.py3-none-any.whl (14 kB)\n",
      "Collecting spacy-loggers==1.0.1\n",
      "  Using cached spacy_loggers-1.0.1-py3-none-any.whl (7.0 kB)\n",
      "Collecting sqlalchemy==1.4.28\n",
      "  Using cached SQLAlchemy-1.4.28-cp38-cp38-manylinux_2_5_x86_64.manylinux1_x86_64.manylinux_2_17_x86_64.manylinux2014_x86_64.whl (1.6 MB)\n",
      "Collecting srsly==2.4.2\n",
      "  Using cached srsly-2.4.2-cp38-cp38-manylinux_2_17_x86_64.manylinux2014_x86_64.whl (454 kB)\n",
      "Collecting thinc==8.0.13\n",
      "  Using cached thinc-8.0.13-cp38-cp38-manylinux_2_17_x86_64.manylinux2014_x86_64.whl (636 kB)\n",
      "Collecting tld==0.12.6\n",
      "  Using cached tld-0.12.6-py38-none-any.whl (412 kB)\n",
      "Collecting tldextract==3.1.2\n",
      "  Using cached tldextract-3.1.2-py2.py3-none-any.whl (87 kB)\n",
      "Requirement already satisfied: tokenizers==0.10.3 in /opt/conda/lib/python3.8/site-packages (from obsei==0.0.10) (0.10.3)\n",
      "Collecting tqdm==4.62.3\n",
      "  Using cached tqdm-4.62.3-py2.py3-none-any.whl (76 kB)\n",
      "Collecting trafilatura==1.0.0\n",
      "  Using cached trafilatura-1.0.0-py3-none-any.whl (180 kB)\n",
      "Collecting transformers==4.13.0\n",
      "  Using cached transformers-4.13.0-py3-none-any.whl (3.3 MB)\n",
      "Collecting tweet-preprocessor==0.6.0\n",
      "  Using cached tweet_preprocessor-0.6.0-py3-none-any.whl (27 kB)\n",
      "Collecting typer==0.4.0\n",
      "  Using cached typer-0.4.0-py3-none-any.whl (27 kB)\n",
      "Requirement already satisfied: typing-extensions>=3.7.4.3 in /opt/conda/lib/python3.8/site-packages (from obsei==0.0.10) (3.10.0.0)\n",
      "Collecting typing-inspect==0.7.1\n",
      "  Using cached typing_inspect-0.7.1-py3-none-any.whl (8.4 kB)\n",
      "Requirement already satisfied: tzdata==2021.5 in /opt/conda/lib/python3.8/site-packages (from obsei==0.0.10) (2021.5)\n",
      "Collecting tzlocal==4.1\n",
      "  Using cached tzlocal-4.1-py3-none-any.whl (19 kB)\n",
      "Collecting update-checker==0.18.0\n",
      "  Using cached update_checker-0.18.0-py3-none-any.whl (7.0 kB)\n",
      "Collecting uritemplate==4.1.1\n",
      "  Using cached uritemplate-4.1.1-py2.py3-none-any.whl (10 kB)\n",
      "Requirement already satisfied: urllib3==1.26.7 in /opt/conda/lib/python3.8/site-packages (from obsei==0.0.10) (1.26.7)\n",
      "Requirement already satisfied: vadersentiment==3.3.2 in /opt/conda/lib/python3.8/site-packages (from obsei==0.0.10) (3.3.2)\n",
      "Collecting wasabi==0.9.0\n",
      "  Using cached wasabi-0.9.0-py3-none-any.whl (25 kB)\n",
      "Collecting websocket-client==1.2.3\n",
      "  Using cached websocket_client-1.2.3-py3-none-any.whl (53 kB)\n",
      "Collecting wrapt==1.13.3\n",
      "  Using cached wrapt-1.13.3-cp38-cp38-manylinux_2_5_x86_64.manylinux1_x86_64.manylinux_2_12_x86_64.manylinux2010_x86_64.whl (84 kB)\n",
      "Collecting zenpy==2.0.24\n",
      "  Using cached zenpy-2.0.24-py3-none-any.whl\n",
      "Collecting torch==1.10.0\n"
     ]
    }
   ],
   "source": [
    "!pip install git+https://github.com/lalitpagaria/obsei.git"
   ]
  },
  {
   "cell_type": "markdown",
   "id": "71172dd4-9654-49c2-bdc5-0a6593f84b26",
   "metadata": {},
   "source": [
    "## Import libraries"
   ]
  },
  {
   "cell_type": "code",
   "execution_count": 2,
   "id": "9439a080-d784-4d84-b4cb-4f6e5b0a5f51",
   "metadata": {
    "execution": {
     "iopub.execute_input": "2021-12-22T01:58:16.833396Z",
     "iopub.status.busy": "2021-12-22T01:58:16.833085Z",
     "iopub.status.idle": "2021-12-22T01:58:16.929137Z",
     "shell.execute_reply": "2021-12-22T01:58:16.918929Z",
     "shell.execute_reply.started": "2021-12-22T01:58:16.833365Z"
    },
    "tags": []
   },
   "outputs": [
    {
     "ename": "ModuleNotFoundError",
     "evalue": "No module named 'obsei'",
     "output_type": "error",
     "traceback": [
      "\u001b[0;31m---------------------------------------------------------------------------\u001b[0m",
      "\u001b[0;31mModuleNotFoundError\u001b[0m                       Traceback (most recent call last)",
      "\u001b[0;32m<ipython-input-2-4cc3d3744790>\u001b[0m in \u001b[0;36m<module>\u001b[0;34m\u001b[0m\n\u001b[1;32m      1\u001b[0m \u001b[0;31m# Importing Google News observer\u001b[0m\u001b[0;34m\u001b[0m\u001b[0;34m\u001b[0m\u001b[0;34m\u001b[0m\u001b[0m\n\u001b[0;32m----> 2\u001b[0;31m \u001b[0;32mfrom\u001b[0m \u001b[0mobsei\u001b[0m\u001b[0;34m.\u001b[0m\u001b[0msource\u001b[0m\u001b[0;34m.\u001b[0m\u001b[0mgoogle_news_source\u001b[0m \u001b[0;32mimport\u001b[0m \u001b[0mGoogleNewsConfig\u001b[0m\u001b[0;34m,\u001b[0m \u001b[0mGoogleNewsSource\u001b[0m\u001b[0;34m\u001b[0m\u001b[0;34m\u001b[0m\u001b[0m\n\u001b[0m\u001b[1;32m      3\u001b[0m \u001b[0;34m\u001b[0m\u001b[0m\n\u001b[1;32m      4\u001b[0m \u001b[0;31m# Preprocessing and clean the review text\u001b[0m\u001b[0;34m\u001b[0m\u001b[0;34m\u001b[0m\u001b[0;34m\u001b[0m\u001b[0m\n\u001b[1;32m      5\u001b[0m \u001b[0;32mfrom\u001b[0m \u001b[0mobsei\u001b[0m\u001b[0;34m.\u001b[0m\u001b[0mpreprocessor\u001b[0m\u001b[0;34m.\u001b[0m\u001b[0mtext_cleaner\u001b[0m \u001b[0;32mimport\u001b[0m \u001b[0mTextCleaner\u001b[0m\u001b[0;34m,\u001b[0m \u001b[0mTextCleanerConfig\u001b[0m\u001b[0;34m\u001b[0m\u001b[0;34m\u001b[0m\u001b[0m\n",
      "\u001b[0;31mModuleNotFoundError\u001b[0m: No module named 'obsei'"
     ]
    }
   ],
   "source": [
    "# Importing Google News observer\n",
    "from obsei.source.google_news_source import GoogleNewsConfig, GoogleNewsSource\n",
    "\n",
    "# Preprocessing and clean the review text \n",
    "from obsei.preprocessor.text_cleaner import TextCleaner, TextCleanerConfig\n",
    "from obsei.preprocessor.text_cleaning_function import *\n",
    "\n",
    "# Classification Analyzer\n",
    "from obsei.analyzer.classification_analyzer import ClassificationAnalyzerConfig, ZeroShotClassificationAnalyzer\n",
    "from obsei.postprocessor.inference_aggregator import InferenceAggregatorConfig\n",
    "from obsei.postprocessor.inference_aggregator_function import ClassificationMaxCategories\n",
    "from obsei.preprocessor.text_splitter import TextSplitterConfig\n"
   ]
  },
  {
   "cell_type": "markdown",
   "id": "2f4d41f5-1a4e-4368-9434-71e9ca594387",
   "metadata": {},
   "source": [
    "## Parameters\n"
   ]
  },
  {
   "cell_type": "code",
   "execution_count": 4,
   "id": "2b698474-f9ae-4ede-986a-1ab2eaa87c1c",
   "metadata": {
    "execution": {
     "iopub.execute_input": "2021-12-22T01:50:03.809641Z",
     "iopub.status.busy": "2021-12-22T01:50:03.809357Z",
     "iopub.status.idle": "2021-12-22T01:50:03.815320Z",
     "shell.execute_reply": "2021-12-22T01:50:03.814655Z",
     "shell.execute_reply.started": "2021-12-22T01:50:03.809610Z"
    }
   },
   "outputs": [],
   "source": [
    "# Variables for Google News observer\n",
    "QUREY = \"bitcoin\"\n",
    "MAX_RESULTS = 10\n",
    "FETCH_ARTICLES = True\n",
    "LOOKUP_PERIOD = \"1d\"\n",
    "\n",
    "# Variables for the classification analyzer \n",
    "\n",
    "LABELS=[\"buy\", \"sell\", \"going up\", \"going down\"]\n",
    "USE_SPLITTER_AND_AGGREGATOR=True\n",
    "MAX_SPLIT_LENGTH=300\n",
    "SPLIT_STRIDE=3\n",
    "SCORE_THRESHOLD=0.3                           # Determines the minimum probability required to take a class into consideration\n",
    "MODEL_NAME=\"typeform/mobilebert-uncased-mnli\" # Other models can be choose from https://huggingface.co/models?pipeline_tag=zero-shot-classification,\n",
    "DEVICE=\"auto\"\n",
    "\n"
   ]
  },
  {
   "cell_type": "markdown",
   "id": "d5f8a558-16aa-4479-92b9-46de4ee94b77",
   "metadata": {},
   "source": [
    "# Model"
   ]
  },
  {
   "cell_type": "markdown",
   "id": "128326d3-501b-4ab1-b230-5cc83c297dc9",
   "metadata": {},
   "source": [
    "\n",
    "## Configure Google News observer"
   ]
  },
  {
   "cell_type": "code",
   "execution_count": null,
   "id": "bf56cb96-cd26-41ef-9487-936d2250f771",
   "metadata": {},
   "outputs": [],
   "source": [
    "source_config = GoogleNewsConfig(\n",
    "    query=QUREY,\n",
    "    max_results=MAX_RESULTS,\n",
    "    fetch_article= FETCH_ARTICLES,\n",
    "    lookup_period = LOOKUP_PERIOD,\n",
    ")\n",
    "\n",
    "source = GoogleNewsSource()"
   ]
  },
  {
   "cell_type": "markdown",
   "id": "9baa514d-243c-4977-ac50-bdbcb5af7654",
   "metadata": {},
   "source": [
    "## Configure TextCleaner as Pre-Processor to clean review text"
   ]
  },
  {
   "cell_type": "code",
   "execution_count": null,
   "id": "662c8040-33c6-4b3a-9284-fdad37fe5a38",
   "metadata": {},
   "outputs": [],
   "source": [
    "text_cleaner_config = TextCleanerConfig(\n",
    "    cleaning_functions = [\n",
    "        ToLowerCase(),\n",
    "        RemoveWhiteSpaceAndEmptyToken(),\n",
    "        RemovePunctuation(),\n",
    "        RemoveSpecialChars(),\n",
    "        DecodeUnicode(),\n",
    "        RemoveStopWords(),\n",
    "        RemoveWhiteSpaceAndEmptyToken(),\n",
    "   ]\n",
    ")\n",
    "\n",
    "text_cleaner = TextCleaner()"
   ]
  },
  {
   "cell_type": "markdown",
   "id": "d24f165f-4fae-43c6-83a4-fa117bba3c49",
   "metadata": {},
   "source": [
    "## Configure Classification Analyzer"
   ]
  },
  {
   "cell_type": "code",
   "execution_count": null,
   "id": "19b76045-488d-4cf9-8d36-9764f320c010",
   "metadata": {},
   "outputs": [],
   "source": [
    "analyzer_config=ClassificationAnalyzerConfig(\n",
    "   labels=LABELS,\n",
    "   use_splitter_and_aggregator=USE_SPLITTER_AND_AGGREGATOR,\n",
    "   splitter_config=TextSplitterConfig(\n",
    "       max_split_length=MAX_SPLIT_LENGTH,\n",
    "       split_stride=SPLIT_STRIDE\n",
    "   ),\n",
    "   aggregator_config=InferenceAggregatorConfig(\n",
    "       aggregate_function=ClassificationMaxCategories(\n",
    "           score_threshold=SCORE_THRESHOLD\n",
    "       )\n",
    "   )\n",
    ")\n",
    "\n",
    "text_analyzer = ZeroShotClassificationAnalyzer(\n",
    "   model_name_or_path=MODEL_NAME,\n",
    "   device=DEVICE\n",
    ")"
   ]
  },
  {
   "cell_type": "markdown",
   "id": "6129e86a-df11-4f55-aa51-61ff37b62994",
   "metadata": {},
   "source": [
    "## Function"
   ]
  },
  {
   "cell_type": "markdown",
   "id": "ae9d10c4-86ca-4fc2-a9e5-4e44796de732",
   "metadata": {},
   "source": [
    "## Search and fetch news article"
   ]
  },
  {
   "cell_type": "code",
   "execution_count": null,
   "id": "38ad2b58-2246-47da-997d-fea02d8992d5",
   "metadata": {},
   "outputs": [],
   "source": [
    "source_response_list = source.lookup(source_config)"
   ]
  },
  {
   "cell_type": "markdown",
   "id": "f691442e-608a-4c64-acdb-ce1d5bac3b8b",
   "metadata": {},
   "source": [
    "## Pre-process text to clean it"
   ]
  },
  {
   "cell_type": "code",
   "execution_count": null,
   "id": "2aad8908-aab8-4988-92f1-e9da528c31bf",
   "metadata": {},
   "outputs": [],
   "source": [
    "cleaner_response_list = text_cleaner.preprocess_input(\n",
    "    input_list=source_response_list,\n",
    "    config=text_cleaner_config\n",
    ")"
   ]
  },
  {
   "cell_type": "markdown",
   "id": "556b899c-6ac7-40fc-bed7-2a9844be1191",
   "metadata": {},
   "source": [
    "## Analyze article to peform classification"
   ]
  },
  {
   "cell_type": "code",
   "execution_count": null,
   "id": "30f152c1-69bb-48cf-977d-934ad2ab5377",
   "metadata": {},
   "outputs": [],
   "source": [
    "analyzer_response_list = text_analyzer.analyze_input(\n",
    "    source_response_list=cleaner_response_list,\n",
    "    analyzer_config=analyzer_config\n",
    ")"
   ]
  },
  {
   "cell_type": "markdown",
   "id": "1f29df80-070b-46d7-83e9-a2283c76f66a",
   "metadata": {},
   "source": [
    "# Output"
   ]
  },
  {
   "cell_type": "markdown",
   "id": "e8466469-0f11-458c-8b8e-aba8c1e45675",
   "metadata": {},
   "source": [
    "## Displaying Results\n"
   ]
  },
  {
   "cell_type": "code",
   "execution_count": 5,
   "id": "3f1a5c03-b5b4-4d3b-89fe-893e5138c39f",
   "metadata": {
    "execution": {
     "iopub.execute_input": "2021-12-22T01:51:47.809291Z",
     "iopub.status.busy": "2021-12-22T01:51:47.809002Z",
     "iopub.status.idle": "2021-12-22T01:51:47.819068Z",
     "shell.execute_reply": "2021-12-22T01:51:47.818297Z",
     "shell.execute_reply.started": "2021-12-22T01:51:47.809262Z"
    }
   },
   "outputs": [
    {
     "ename": "NameError",
     "evalue": "name 'analyzer_response_list' is not defined",
     "output_type": "error",
     "traceback": [
      "\u001b[0;31m---------------------------------------------------------------------------\u001b[0m",
      "\u001b[0;31mNameError\u001b[0m                                 Traceback (most recent call last)",
      "\u001b[0;32m<ipython-input-5-a24f09a7d479>\u001b[0m in \u001b[0;36m<module>\u001b[0;34m\u001b[0m\n\u001b[1;32m      1\u001b[0m \u001b[0;31m# Priniting the results\u001b[0m\u001b[0;34m\u001b[0m\u001b[0;34m\u001b[0m\u001b[0;34m\u001b[0m\u001b[0m\n\u001b[0;32m----> 2\u001b[0;31m \u001b[0;32mfor\u001b[0m \u001b[0manalyzer_response\u001b[0m \u001b[0;32min\u001b[0m \u001b[0manalyzer_response_list\u001b[0m\u001b[0;34m:\u001b[0m\u001b[0;34m\u001b[0m\u001b[0;34m\u001b[0m\u001b[0m\n\u001b[0m\u001b[1;32m      3\u001b[0m   \u001b[0mprint\u001b[0m\u001b[0;34m(\u001b[0m\u001b[0mvars\u001b[0m\u001b[0;34m(\u001b[0m\u001b[0manalyzer_response\u001b[0m\u001b[0;34m)\u001b[0m\u001b[0;34m)\u001b[0m\u001b[0;34m\u001b[0m\u001b[0;34m\u001b[0m\u001b[0m\n",
      "\u001b[0;31mNameError\u001b[0m: name 'analyzer_response_list' is not defined"
     ]
    }
   ],
   "source": [
    "# Priniting the results\n",
    "for analyzer_response in analyzer_response_list:\n",
    "  print(vars(analyzer_response))"
   ]
  },
  {
   "cell_type": "code",
   "execution_count": null,
   "id": "45885da6-f16d-4557-8336-8f92e6ed08c9",
   "metadata": {},
   "outputs": [],
   "source": []
  }
 ],
 "metadata": {
  "kernelspec": {
   "display_name": "Python 3",
   "language": "python",
   "name": "python3"
  },
  "language_info": {
   "codemirror_mode": {
    "name": "ipython",
    "version": 3
   },
   "file_extension": ".py",
   "mimetype": "text/x-python",
   "name": "python",
   "nbconvert_exporter": "python",
   "pygments_lexer": "ipython3",
   "version": "3.8.8"
  }
 },
 "nbformat": 4,
 "nbformat_minor": 5
}
