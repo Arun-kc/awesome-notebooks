{
 "cells": [
  {
   "cell_type": "markdown",
   "id": "d379ca8d",
   "metadata": {},
   "source": [
    "<img width=\"10%\" alt=\"Naas\" src=\"https://landen.imgix.net/jtci2pxwjczr/assets/5ice39g4.png?w=160\"/>"
   ]
  },
  {
   "cell_type": "markdown",
   "id": "bfbb8602",
   "metadata": {},
   "source": [
    "# FFMPEG - Make dynamic graph videos "
   ]
  },
  {
   "cell_type": "markdown",
   "id": "11e3594e",
   "metadata": {},
   "source": [
    "**Tags:** #ffmpeg #latex #datascience #matplotlib #statistics #analytics "
   ]
  },
  {
   "cell_type": "markdown",
   "id": "f1ff1aef",
   "metadata": {},
   "source": [
    "This notebook tries to get the LaTeX math working in MatPlotLib as posted by Mr. Thom Ives, Ph.D. [here](https://www.linkedin.com/posts/thomives_vscode-datascience-statistics-activity-6875488520111312896-tzD2) "
   ]
  },
  {
   "cell_type": "markdown",
   "id": "ca11087a",
   "metadata": {},
   "source": [
    "## Input"
   ]
  },
  {
   "cell_type": "markdown",
   "id": "241ac1b8",
   "metadata": {},
   "source": [
    "### Installing Packages"
   ]
  },
  {
   "cell_type": "code",
   "execution_count": null,
   "id": "1a3f30fd",
   "metadata": {},
   "outputs": [],
   "source": [
    "!sudo apt-get update -y\n",
    "!sudo apt-get install texlive-latex-recommended\n",
    "!sudo apt-get install texlive-latex-extra\n",
    "!sudo apt-get install dvipng\n",
    "!sudo apt-get install type1ec.sty\n",
    "!sudo apt-get install texlive-fonts-recommended texlive-fonts-extra cm-super dvipng\n",
    "!pip install ffmpeg-python"
   ]
  },
  {
   "cell_type": "markdown",
   "id": "1038bfaa",
   "metadata": {},
   "source": [
    "### Import library"
   ]
  },
  {
   "cell_type": "code",
   "execution_count": null,
   "id": "a99c1fcd",
   "metadata": {},
   "outputs": [],
   "source": [
    "import numpy as np\n",
    "import pandas as pd\n",
    "import matplotlib.pyplot as plt\n",
    "import matplotlib\n",
    "from matplotlib import rc\n",
    "import sys\n",
    "import ffmpeg\n",
    "import pickle"
   ]
  },
  {
   "cell_type": "markdown",
   "id": "3bc4af01",
   "metadata": {},
   "source": [
    "### Variables"
   ]
  },
  {
   "cell_type": "code",
   "execution_count": null,
   "id": "2899af89",
   "metadata": {},
   "outputs": [],
   "source": [
    "# If you have your own pickle file you may use it as follows :=\n",
    "'''\n",
    "In place of <path_to_CMs>, add your pickle file path.\n",
    "    \n",
    "    CMs = pd.read_pickle(r'<path_to_CMs>')\n",
    "    \n",
    "'''\n",
    "Cms = {}\n",
    "\n",
    "# Data points Key (here we use 'cm' for the data generation)\n",
    "# Ex-> viz_key='cm'\n",
    "\n",
    "viz_key = ''  "
   ]
  },
  {
   "cell_type": "markdown",
   "id": "98e736ac",
   "metadata": {},
   "source": [
    "### Data Generation Example\n",
    "If you don't have testing data, you may use the following code by uncommenting it."
   ]
  },
  {
   "cell_type": "code",
   "execution_count": null,
   "id": "028f201f",
   "metadata": {},
   "outputs": [],
   "source": [
    "# rc('text', usetex=True)\n",
    "# matplotlib.rcParams['text.latex.preamble'] = [r'\\usepackage{amsmath}']\n",
    "\n",
    "# num_pts = 200\n",
    "# X_null = np.sort(np.random.normal(10, 2, num_pts))\n",
    "# X_alt = np.sort(np.random.normal(15, 2, num_pts))\n",
    "\n",
    "# num_bins = 20\n",
    "\n",
    "# orn, en, _ = plt.hist(X_null, bins=num_bins)\n",
    "# PDF_null_D = dict(zip(en[1:], orn/num_pts))\n",
    "# CDF_null_D = dict(zip(en[1:], np.cumsum(orn/num_pts)))\n",
    "# Cnt_null_D = dict(zip(en[1:], np.cumsum(orn/num_pts)*200))\n",
    "\n",
    "# ora, ea, _ = plt.hist(X_alt, bins=num_bins, alpha=0.5)\n",
    "# PDF_alt_D = dict(zip(ea[1:], ora/num_pts))\n",
    "# CDF_alt_D = dict(zip(ea[1:], np.cumsum(ora/num_pts)))\n",
    "# Cnt_alt_D = dict(zip(en[1:], np.cumsum(ora/num_pts)*200))\n",
    "\n",
    "# plt.close()\n",
    "\n",
    "# all_x = np.sort(np.concatenate((en[1:], ea[1:])))\n",
    "\n",
    "# all_D = {'null': {}, 'alt': {}}\n",
    "# all_cnt_D = {'null': {}, 'alt': {}}\n",
    "# last_null = 0\n",
    "# last_alt = 0\n",
    "# last_cnt_null = 0\n",
    "# last_cnt_alt = 0\n",
    "\n",
    "# for x in all_x:\n",
    "    \n",
    "#     all_D['null'][x] = CDF_null_D.get(x, last_null)\n",
    "#     all_cnt_D['null'][x] = Cnt_null_D.get(x, last_cnt_null)\n",
    "#     if all_D['null'][x] != 0:\n",
    "#         last_null = all_D['null'][x]\n",
    "#     if all_cnt_D['null'][x] != 0:\n",
    "#         last_cnt_null = all_cnt_D['null'][x]\n",
    "\n",
    "#     all_D['alt'][x] = CDF_alt_D.get(x, last_alt)\n",
    "#     all_cnt_D['alt'][x] = Cnt_alt_D.get(x, last_cnt_alt)\n",
    "#     if all_D['alt'][x] != 0:\n",
    "#         last_alt = all_D['alt'][x]\n",
    "#     if all_cnt_D['alt'][x] != 0:\n",
    "#         last_cnt_alt = all_cnt_D['alt'][x]\n",
    "    \n",
    "# ROC_X = []\n",
    "# ROC_Y = []\n",
    "\n",
    "# for x in all_x:\n",
    "#     TP_Rate = 1.0 - all_D['alt'][x]\n",
    "#     FN_Rate = all_D['alt'][x]\n",
    "#     FP_Rate = 1.0 - all_D['null'][x]\n",
    "#     TN_Rate = all_D['null'][x]\n",
    "\n",
    "#     ROC_X.append(FP_Rate)\n",
    "#     ROC_Y.append(TP_Rate)\n",
    "\n",
    "#     cm = np.array([[int(200*TP_Rate), int(200*FN_Rate)],\n",
    "#     [int(200*FP_Rate), int(200*TN_Rate)]])\n",
    "\n",
    "#     k = (round(FP_Rate, 2), round(TP_Rate, 2))\n",
    "#     CMs[k] = {'cm': cm}\n",
    "#     metrics = np.zeros((2 + 2, 4))\n",
    "#     for i in range(2):\n",
    "#         if cm[i, i] == 0 and cm[1, i] + cm[0, i] == 0:\n",
    "#             metrics[i, 0] = 0\n",
    "#         else:\n",
    "#             metrics[i, 0] = cm[i, i] / (cm[1, i] + cm[0, i])\n",
    "\n",
    "#         metrics[i, 1] = cm[i, i] / (cm[i, 1] + cm[i, 0])\n",
    "#         metrics[i, 2] = 2*cm[i, i] / (2*cm[i, i] + cm[1, 0] + cm[0, 1])\n",
    "#         metrics[i, 3] = np.sum(cm[i])\n",
    "#         metrics[2 + 0, :3] = np.mean(metrics[:2, :3], axis=0)\n",
    "    \n",
    "#     metrics[2 + 1, :3] = np.average(metrics[:2, :3], axis=0,\n",
    "#     weights=metrics[:2, 3])\n",
    "#     metrics[2:, 3] = 2 * num_pts\n",
    "#     metrics = np.around(metrics, 4)\n",
    "#     accuracy = np.around(np.trace(cm)/(2 * num_pts), 4)\n",
    "#     CMs[k]['metrics'] = metrics\n",
    "#     CMs[k]['accuracy'] = accuracy"
   ]
  },
  {
   "cell_type": "markdown",
   "id": "3916d8c2",
   "metadata": {},
   "source": [
    "## Model"
   ]
  },
  {
   "cell_type": "markdown",
   "id": "5c45d6bb",
   "metadata": {},
   "source": [
    "### Creating Graphs for the datapoints"
   ]
  },
  {
   "cell_type": "code",
   "execution_count": null,
   "id": "8cd4a657",
   "metadata": {},
   "outputs": [],
   "source": [
    "# This part of the code will generate your graphs in the form of .png file for given dataset\n",
    "\n",
    "i = 0\n",
    "\n",
    "for k in CMs:\n",
    "    plt.figure(figsize=(10, 7))\n",
    "    plt.title('ROC From Fake Test Data')\n",
    "    plt.xlabel('False Positive Rate')\n",
    "    plt.ylabel('True Positive Rate')\n",
    "    plt.plot([0, 1], [0, 1])\n",
    "    plt.plot(ROC_X, ROC_Y)\n",
    "\n",
    "    k1, k2 = k\n",
    "    e1 = CMs[k][viz_key][0][0]\n",
    "    e2 = CMs[k][viz_key][0][1]\n",
    "    e3 = CMs[k][viz_key][1][0]\n",
    "    e4 = CMs[k][viz_key][1][1]\n",
    "\n",
    "    plt.scatter([k1], [k2], s=73, c='r')\n",
    "    ant = r\"$cm = \\begin {bmatrix} \"\n",
    "    ant += f\"{e1} & {e2}\"\n",
    "    ant += r\" \\\\ \"\n",
    "    ant += f\"{e3} & {e4}\"\n",
    "    ant += r\" \\end {bmatrix} $\"\n",
    "    plt.text(0.125, 0.7, ant, fontsize=20, ha='left')\n",
    "\n",
    "    plt.savefig(f'{str(i).zfill(2)}.png')\n",
    "    plt.close()\n",
    "    i += 1"
   ]
  },
  {
   "cell_type": "markdown",
   "id": "ae3b138d",
   "metadata": {},
   "source": [
    "## Output"
   ]
  },
  {
   "cell_type": "markdown",
   "id": "90f30742",
   "metadata": {},
   "source": [
    "###  Generating Video"
   ]
  },
  {
   "cell_type": "code",
   "execution_count": null,
   "id": "0eb35803",
   "metadata": {},
   "outputs": [],
   "source": [
    "# This step will stitch our generated images and produce our video\n",
    "\n",
    "(\n",
    "    ffmpeg\n",
    "    .input('*.png' ,pattern_type='glob', framerate=4 )    \n",
    "    .output('output.avi')\n",
    "    .run()\n",
    ")"
   ]
  }
 ],
 "metadata": {
  "@webio": {
   "lastCommId": null,
   "lastKernelId": null
  },
  "kernelspec": {
   "display_name": "Python 3",
   "language": "python",
   "name": "python3"
  },
  "language_info": {
   "codemirror_mode": {
    "name": "ipython",
    "version": 3
   },
   "file_extension": ".py",
   "mimetype": "text/x-python",
   "name": "python",
   "nbconvert_exporter": "python",
   "pygments_lexer": "ipython3",
   "version": "3.8.8"
  }
 },
 "nbformat": 4,
 "nbformat_minor": 5
}
