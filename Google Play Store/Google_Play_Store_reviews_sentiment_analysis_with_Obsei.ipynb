{
 "cells": [
  {
   "cell_type": "markdown",
   "id": "tribal-wyoming",
   "metadata": {
    "papermill": {},
    "tags": []
   },
   "source": [
    "<p style=\"text-align: center\">\n",
    "    <img width=\"10%\" alt=\"Naas\" src=\"https://landen.imgix.net/jtci2pxwjczr/assets/5ice39g4.png?w=160\"/>\n",
    "</p>"
   ]
  },
  {
   "cell_type": "markdown",
   "id": "f443e5d1-34b5-4aa5-b619-6cd6c773f2cf",
   "metadata": {
    "papermill": {},
    "tags": []
   },
   "source": [
    "# Google Play Store - Get sentiment analysis on app reviews using Obsei\n",
    "\n",
    "<p style=\"text-align: center\">\n",
    "    <a href=\"https://app.naas.ai/user-redirect/naas/downloader?url=https://raw.githubusercontent.com/jupyter-naas/awesome-notebooks/master/Google%20Play%20Store/Google_Play_Store_reviews_sentiment_analysis_with_Obsei.ipynb\" target=\"_parent\">\n",
    "        <img src=\"https://img.shields.io/badge/-Open%20in%20Naas-success?labelColor=000000&logo=data:image/svg+xml;base64,PD94bWwgdmVyc2lvbj0iMS4wIiBlbmNvZGluZz0iVVRGLTgiPz4KPHN2ZyB3aWR0aD0iMTAyNHB4IiBoZWlnaHQ9IjEwMjRweCIgdmlld0JveD0iMCAwIDEwMjQgMTAyNCIgeG1sbnM9Imh0dHA6Ly93d3cudzMub3JnLzIwMDAvc3ZnIiB4bWxuczp4bGluaz0iaHR0cDovL3d3dy53My5vcmcvMTk5OS94bGluayIgdmVyc2lvbj0iMS4xIj4KIDwhLS0gR2VuZXJhdGVkIGJ5IFBpeGVsbWF0b3IgUHJvIDIuMC41IC0tPgogPGRlZnM+CiAgPHRleHQgaWQ9InN0cmluZyIgdHJhbnNmb3JtPSJtYXRyaXgoMS4wIDAuMCAwLjAgMS4wIDIyOC4wIDU0LjUpIiBmb250LWZhbWlseT0iQ29tZm9ydGFhLVJlZ3VsYXIsIENvbWZvcnRhYSIgZm9udC1zaXplPSI4MDAiIHRleHQtZGVjb3JhdGlvbj0ibm9uZSIgZmlsbD0iI2ZmZmZmZiIgeD0iMS4xOTk5OTk5OTk5OTk5ODg2IiB5PSI3MDUuMCI+bjwvdGV4dD4KIDwvZGVmcz4KIDx1c2UgaWQ9Im4iIHhsaW5rOmhyZWY9IiNzdHJpbmciLz4KPC9zdmc+Cg==\"/>\n",
    "    </a>\n",
    "</p>"
   ]
  },
  {
   "cell_type": "markdown",
   "id": "574fa5e0-84ad-47f7-9240-75c27fcf4f75",
   "metadata": {},
   "source": [
    "<p style=\"text-align: center\">\n",
    "    <a href=\"https://github.com/obsei/obsei\">\n",
    "        <img width=\"5%\" alt=\"Obsei\" src=\"https://raw.githubusercontent.com/obsei/obsei-resources/master/logos/obsei_200x200.png?w=50\"/>\n",
    "    </a>\n",
    "</p>"
   ]
  },
  {
   "cell_type": "markdown",
   "id": "49160e60-821a-4756-8dba-ef125e2171a1",
   "metadata": {},
   "source": [
    "<p style=\"text-align: center\">\n",
    "    <img width=\"3%\" alt=\"PlayStore\" src=\"https://raw.githubusercontent.com/obsei/obsei-resources/master/logos/playstore.png\"/>\n",
    "    <img width=\"5.5%\" alt=\"Arraow\" src=\"https://freepngimg.com/thumb/direction/21565-6-green-arrow-hd.png\"/>\n",
    "    <img width=\"3%\" alt=\"Sentiment\" src=\"https://raw.githubusercontent.com/obsei/obsei-resources/master/logos/sentiment.png\"/>\n",
    "    <img width=\"5.5%\" alt=\"Arraow\" src=\"https://freepngimg.com/thumb/direction/21565-6-green-arrow-hd.png\"/>\n",
    "    <img width=\"3%\" alt=\"Pandas\" src=\"https://raw.githubusercontent.com/obsei/obsei-resources/master/logos/pandas.svg\"/>\n",
    "</p>"
   ]
  },
  {
   "cell_type": "markdown",
   "id": "f3cde881-2e38-4868-90e4-8dd132ee0f28",
   "metadata": {},
   "source": [
    "## Input"
   ]
  },
  {
   "cell_type": "markdown",
   "id": "weird-currency",
   "metadata": {
    "papermill": {},
    "tags": []
   },
   "source": [
    "### Pip install Obsei"
   ]
  },
  {
   "cell_type": "code",
   "execution_count": 1,
   "id": "ab700dba-37dc-403c-aecd-f25d0efaa952",
   "metadata": {
    "execution": {
     "iopub.execute_input": "2021-08-28T19:47:42.988367Z",
     "iopub.status.busy": "2021-08-28T19:47:42.988100Z",
     "iopub.status.idle": "2021-08-28T19:47:51.746296Z",
     "shell.execute_reply": "2021-08-28T19:47:51.745466Z",
     "shell.execute_reply.started": "2021-08-28T19:47:42.988303Z"
    }
   },
   "outputs": [
    {
     "name": "stdout",
     "output_type": "stream",
     "text": [
      "Collecting obsei\n",
      "  Cloning git://github.com/obsei/obsei (to revision master) to /tmp/pip-install-qp_0qedk/obsei_de084e9f769349d0a1de421af612530c\n",
      "  Running command git clone -q git://github.com/obsei/obsei /tmp/pip-install-qp_0qedk/obsei_de084e9f769349d0a1de421af612530c\n",
      "  Resolved git://github.com/obsei/obsei to commit b40783de6f7e2f66b0b84518780414af787ad7b2\n",
      "Requirement already satisfied: app-store-reviews-reader==1.2 in /home/ftp/.local/lib/python3.8/site-packages (from obsei) (1.2)\n",
      "Requirement already satisfied: atlassian-python-api==3.10.0 in /home/ftp/.local/lib/python3.8/site-packages (from obsei) (3.10.0)\n",
      "Requirement already satisfied: beautifulsoup4==4.9.3 in /opt/conda/lib/python3.8/site-packages (from obsei) (4.9.3)\n",
      "Requirement already satisfied: blis==0.7.4 in /home/ftp/.local/lib/python3.8/site-packages (from obsei) (0.7.4)\n",
      "Requirement already satisfied: cachetools==4.2.2 in /opt/conda/lib/python3.8/site-packages (from obsei) (4.2.2)\n",
      "Requirement already satisfied: catalogue==2.0.4 in /home/ftp/.local/lib/python3.8/site-packages (from obsei) (2.0.4)\n",
      "Requirement already satisfied: certifi==2021.5.30 in /home/ftp/.local/lib/python3.8/site-packages (from obsei) (2021.5.30)\n",
      "Requirement already satisfied: chardet==4.0.0 in /home/ftp/.local/lib/python3.8/site-packages (from obsei) (4.0.0)\n",
      "Requirement already satisfied: click==7.1.2 in /home/ftp/.local/lib/python3.8/site-packages (from obsei) (7.1.2)\n",
      "Requirement already satisfied: courlan==0.4.0 in /home/ftp/.local/lib/python3.8/site-packages (from obsei) (0.4.0)\n",
      "Requirement already satisfied: cssselect==1.1.0 in /home/ftp/.local/lib/python3.8/site-packages (from obsei) (1.1.0)\n",
      "Requirement already satisfied: cymem==2.0.5 in /home/ftp/.local/lib/python3.8/site-packages (from obsei) (2.0.5)\n",
      "Requirement already satisfied: dateparser==1.0.0 in /home/ftp/.local/lib/python3.8/site-packages (from obsei) (1.0.0)\n",
      "Requirement already satisfied: deprecated==1.2.12 in /home/ftp/.local/lib/python3.8/site-packages (from obsei) (1.2.12)\n",
      "Requirement already satisfied: elasticsearch==7.13.1 in /home/ftp/.local/lib/python3.8/site-packages (from obsei) (7.13.1)\n",
      "Requirement already satisfied: feedparser==6.0.2 in /home/ftp/.local/lib/python3.8/site-packages (from obsei) (6.0.2)\n",
      "Requirement already satisfied: filelock==3.0.12 in /opt/conda/lib/python3.8/site-packages (from obsei) (3.0.12)\n",
      "Requirement already satisfied: gnews==0.1.3 in /home/ftp/.local/lib/python3.8/site-packages (from obsei) (0.1.3)\n",
      "Requirement already satisfied: google-api-core==1.30.0 in /home/ftp/.local/lib/python3.8/site-packages (from obsei) (1.30.0)\n",
      "Requirement already satisfied: google-api-python-client==2.8.0 in /home/ftp/.local/lib/python3.8/site-packages (from obsei) (2.8.0)\n",
      "Requirement already satisfied: google-auth==1.30.2 in /home/ftp/.local/lib/python3.8/site-packages (from obsei) (1.30.2)\n",
      "Requirement already satisfied: google-auth-httplib2==0.1.0 in /opt/conda/lib/python3.8/site-packages (from obsei) (0.1.0)\n",
      "Requirement already satisfied: google-play-scraper==1.0.0 in /home/ftp/.local/lib/python3.8/site-packages (from obsei) (1.0.0)\n",
      "Requirement already satisfied: googleapis-common-protos==1.53.0 in /opt/conda/lib/python3.8/site-packages (from obsei) (1.53.0)\n",
      "Requirement already satisfied: greenlet==1.1.0 in /home/ftp/.local/lib/python3.8/site-packages (from obsei) (1.1.0)\n",
      "Requirement already satisfied: htmldate==0.8.1 in /home/ftp/.local/lib/python3.8/site-packages (from obsei) (0.8.1)\n",
      "Requirement already satisfied: httplib2==0.19.1 in /opt/conda/lib/python3.8/site-packages (from obsei) (0.19.1)\n",
      "Requirement already satisfied: huggingface-hub==0.0.8 in /opt/conda/lib/python3.8/site-packages (from obsei) (0.0.8)\n",
      "Requirement already satisfied: idna==2.10 in /opt/conda/lib/python3.8/site-packages (from obsei) (2.10)\n",
      "Requirement already satisfied: importlib-metadata==4.5.0 in /home/ftp/.local/lib/python3.8/site-packages (from obsei) (4.5.0)\n",
      "Requirement already satisfied: jinja2==3.0.1 in /home/ftp/.local/lib/python3.8/site-packages (from obsei) (3.0.1)\n",
      "Requirement already satisfied: joblib==1.0.1 in /opt/conda/lib/python3.8/site-packages (from obsei) (1.0.1)\n",
      "Requirement already satisfied: justext==2.2.0 in /home/ftp/.local/lib/python3.8/site-packages (from obsei) (2.2.0)\n",
      "Requirement already satisfied: lxml==4.6.3 in /opt/conda/lib/python3.8/site-packages (from obsei) (4.6.3)\n",
      "Requirement already satisfied: markupsafe==2.0.1 in /home/ftp/.local/lib/python3.8/site-packages (from obsei) (2.0.1)\n",
      "Requirement already satisfied: mmh3==3.0.0 in /home/ftp/.local/lib/python3.8/site-packages (from obsei) (3.0.0)\n",
      "Requirement already satisfied: murmurhash==1.0.5 in /home/ftp/.local/lib/python3.8/site-packages (from obsei) (1.0.5)\n",
      "Requirement already satisfied: nltk==3.6.2 in /home/ftp/.local/lib/python3.8/site-packages (from obsei) (3.6.2)\n",
      "Requirement already satisfied: numpy==1.20.3 in /home/ftp/.local/lib/python3.8/site-packages (from obsei) (1.20.3)\n",
      "Requirement already satisfied: oauthlib==3.1.1 in /home/ftp/.local/lib/python3.8/site-packages (from obsei) (3.1.1)\n",
      "Requirement already satisfied: packaging==20.9 in /opt/conda/lib/python3.8/site-packages (from obsei) (20.9)\n",
      "Requirement already satisfied: pandas==1.2.4 in /opt/conda/lib/python3.8/site-packages (from obsei) (1.2.4)\n",
      "Requirement already satisfied: pathy==0.5.2 in /home/ftp/.local/lib/python3.8/site-packages (from obsei) (0.5.2)\n",
      "Requirement already satisfied: praw==7.2.0 in /home/ftp/.local/lib/python3.8/site-packages (from obsei) (7.2.0)\n",
      "Requirement already satisfied: prawcore==2.1.0 in /home/ftp/.local/lib/python3.8/site-packages (from obsei) (2.1.0)\n",
      "Requirement already satisfied: preshed==3.0.5 in /home/ftp/.local/lib/python3.8/site-packages (from obsei) (3.0.5)\n",
      "Requirement already satisfied: presidio-analyzer==2.2.1 in /home/ftp/.local/lib/python3.8/site-packages (from obsei) (2.2.1)\n",
      "Requirement already satisfied: presidio-anonymizer==2.2.1 in /home/ftp/.local/lib/python3.8/site-packages (from obsei) (2.2.1)\n",
      "Requirement already satisfied: protobuf==3.17.3 in /opt/conda/lib/python3.8/site-packages (from obsei) (3.17.3)\n",
      "Requirement already satisfied: pyasn1==0.4.8 in /opt/conda/lib/python3.8/site-packages (from obsei) (0.4.8)\n",
      "Requirement already satisfied: pyasn1-modules==0.2.8 in /opt/conda/lib/python3.8/site-packages (from obsei) (0.2.8)\n",
      "Requirement already satisfied: pycryptodome==3.10.1 in /home/ftp/.local/lib/python3.8/site-packages (from obsei) (3.10.1)\n",
      "Requirement already satisfied: pydantic==1.7.4 in /home/ftp/.local/lib/python3.8/site-packages (from obsei) (1.7.4)\n",
      "Requirement already satisfied: pyparsing==2.4.7 in /opt/conda/lib/python3.8/site-packages (from obsei) (2.4.7)\n",
      "Requirement already satisfied: python-dateutil==2.8.1 in /opt/conda/lib/python3.8/site-packages (from obsei) (2.8.1)\n",
      "Requirement already satisfied: python-facebook-api==0.9.2 in /home/ftp/.local/lib/python3.8/site-packages (from obsei) (0.9.2)\n",
      "Requirement already satisfied: pytz==2021.1 in /opt/conda/lib/python3.8/site-packages (from obsei) (2021.1)\n",
      "Requirement already satisfied: pyyaml==5.4.1 in /opt/conda/lib/python3.8/site-packages (from obsei) (5.4.1)\n",
      "Requirement already satisfied: readability-lxml==0.8.1 in /home/ftp/.local/lib/python3.8/site-packages (from obsei) (0.8.1)\n",
      "Requirement already satisfied: reddit-rss-reader==1.3.2 in /home/ftp/.local/lib/python3.8/site-packages (from obsei) (1.3.2)\n",
      "Requirement already satisfied: regex==2020.11.13 in /home/ftp/.local/lib/python3.8/site-packages (from obsei) (2020.11.13)\n",
      "Requirement already satisfied: requests==2.25.1 in /opt/conda/lib/python3.8/site-packages (from obsei) (2.25.1)\n",
      "Requirement already satisfied: requests-file==1.5.1 in /home/ftp/.local/lib/python3.8/site-packages (from obsei) (1.5.1)\n",
      "Requirement already satisfied: requests-oauthlib==1.3.0 in /opt/conda/lib/python3.8/site-packages (from obsei) (1.3.0)\n",
      "Requirement already satisfied: rsa==4.7.2 in /opt/conda/lib/python3.8/site-packages (from obsei) (4.7.2)\n",
      "Requirement already satisfied: sacremoses==0.0.45 in /opt/conda/lib/python3.8/site-packages (from obsei) (0.0.45)\n",
      "Requirement already satisfied: searchtweets-v2==1.0.7 in /home/ftp/.local/lib/python3.8/site-packages (from obsei) (1.0.7)\n",
      "Requirement already satisfied: sentencepiece==0.1.95 in /home/ftp/.local/lib/python3.8/site-packages (from obsei) (0.1.95)\n",
      "Requirement already satisfied: sgmllib3k==1.0.0 in /home/ftp/.local/lib/python3.8/site-packages (from obsei) (1.0.0)\n",
      "Requirement already satisfied: six==1.16.0 in /home/ftp/.local/lib/python3.8/site-packages (from obsei) (1.16.0)\n",
      "Requirement already satisfied: slack-sdk==3.6.0 in /home/ftp/.local/lib/python3.8/site-packages (from obsei) (3.6.0)\n",
      "Requirement already satisfied: smart-open==3.0.0 in /home/ftp/.local/lib/python3.8/site-packages (from obsei) (3.0.0)\n",
      "Requirement already satisfied: soupsieve==2.2.1 in /opt/conda/lib/python3.8/site-packages (from obsei) (2.2.1)\n",
      "Requirement already satisfied: spacy==3.0.5 in /home/ftp/.local/lib/python3.8/site-packages (from obsei) (3.0.5)\n",
      "Requirement already satisfied: spacy-legacy==3.0.5 in /home/ftp/.local/lib/python3.8/site-packages (from obsei) (3.0.5)\n",
      "Requirement already satisfied: sqlalchemy==1.4.17 in /home/ftp/.local/lib/python3.8/site-packages (from obsei) (1.4.17)\n",
      "Requirement already satisfied: srsly==2.4.1 in /home/ftp/.local/lib/python3.8/site-packages (from obsei) (2.4.1)\n",
      "Requirement already satisfied: thinc==8.0.4 in /home/ftp/.local/lib/python3.8/site-packages (from obsei) (8.0.4)\n",
      "Requirement already satisfied: tld==0.12.6 in /home/ftp/.local/lib/python3.8/site-packages (from obsei) (0.12.6)\n",
      "Requirement already satisfied: tldextract==3.1.0 in /home/ftp/.local/lib/python3.8/site-packages (from obsei) (3.1.0)\n",
      "Requirement already satisfied: tokenizers==0.10.3 in /opt/conda/lib/python3.8/site-packages (from obsei) (0.10.3)\n",
      "Requirement already satisfied: tqdm==4.61.0 in /home/ftp/.local/lib/python3.8/site-packages (from obsei) (4.61.0)\n",
      "Requirement already satisfied: trafilatura==0.8.2 in /home/ftp/.local/lib/python3.8/site-packages (from obsei) (0.8.2)\n",
      "Requirement already satisfied: transformers==4.6.1 in /opt/conda/lib/python3.8/site-packages (from obsei) (4.6.1)\n",
      "Requirement already satisfied: tweet-preprocessor==0.6.0 in /home/ftp/.local/lib/python3.8/site-packages (from obsei) (0.6.0)\n",
      "Requirement already satisfied: typer==0.3.2 in /home/ftp/.local/lib/python3.8/site-packages (from obsei) (0.3.2)\n",
      "Requirement already satisfied: typing-extensions==3.10.0.0 in /opt/conda/lib/python3.8/site-packages (from obsei) (3.10.0.0)\n",
      "Requirement already satisfied: tzlocal==2.1 in /opt/conda/lib/python3.8/site-packages (from obsei) (2.1)\n",
      "Requirement already satisfied: update-checker==0.18.0 in /home/ftp/.local/lib/python3.8/site-packages (from obsei) (0.18.0)\n",
      "Requirement already satisfied: uritemplate==3.0.1 in /opt/conda/lib/python3.8/site-packages (from obsei) (3.0.1)\n",
      "Requirement already satisfied: urllib3==1.26.5 in /home/ftp/.local/lib/python3.8/site-packages (from obsei) (1.26.5)\n",
      "Requirement already satisfied: vadersentiment==3.3.2 in /opt/conda/lib/python3.8/site-packages (from obsei) (3.3.2)\n",
      "Requirement already satisfied: wasabi==0.8.2 in /home/ftp/.local/lib/python3.8/site-packages (from obsei) (0.8.2)\n",
      "Requirement already satisfied: websocket-client==1.0.1 in /home/ftp/.local/lib/python3.8/site-packages (from obsei) (1.0.1)\n",
      "Requirement already satisfied: wrapt==1.12.1 in /opt/conda/lib/python3.8/site-packages (from obsei) (1.12.1)\n",
      "Requirement already satisfied: zenpy==2.0.24 in /home/ftp/.local/lib/python3.8/site-packages (from obsei) (2.0.24)\n",
      "Requirement already satisfied: zipp==3.4.1 in /opt/conda/lib/python3.8/site-packages (from obsei) (3.4.1)\n",
      "Requirement already satisfied: torch==1.8.1 in /opt/conda/lib/python3.8/site-packages (from obsei) (1.8.1)\n",
      "Requirement already satisfied: setuptools>=40.3.0 in /opt/conda/lib/python3.8/site-packages (from google-api-core==1.30.0->obsei) (49.6.0.post20210108)\n",
      "Requirement already satisfied: responses>=0.11 in /home/ftp/.local/lib/python3.8/site-packages (from python-facebook-api==0.9.2->obsei) (0.13.4)\n",
      "Requirement already satisfied: attrs<21.0.0,>=20.1.0 in /opt/conda/lib/python3.8/site-packages (from python-facebook-api==0.9.2->obsei) (20.3.0)\n",
      "Requirement already satisfied: cattrs<2.0,>=1.1 in /home/ftp/.local/lib/python3.8/site-packages (from python-facebook-api==0.9.2->obsei) (1.8.0)\n"
     ]
    }
   ],
   "source": [
    "!pip install git+git://github.com/obsei/obsei@master#egg=obsei"
   ]
  },
  {
   "cell_type": "markdown",
   "id": "2db57e62-128b-40c9-bc77-8731fb0a82b4",
   "metadata": {},
   "source": [
    "### Import library"
   ]
  },
  {
   "cell_type": "code",
   "execution_count": 2,
   "id": "eaac440d-d65e-40c8-adf8-3f0cef38fdeb",
   "metadata": {
    "execution": {
     "iopub.execute_input": "2021-08-28T19:47:54.136166Z",
     "iopub.status.busy": "2021-08-28T19:47:54.135942Z",
     "iopub.status.idle": "2021-08-28T19:48:10.418261Z",
     "shell.execute_reply": "2021-08-28T19:48:10.417538Z",
     "shell.execute_reply.started": "2021-08-28T19:47:54.136141Z"
    },
    "papermill": {},
    "tags": []
   },
   "outputs": [],
   "source": [
    "# Google Play Store Observer imports\n",
    "from obsei.source.playstore_scrapper import (\n",
    "    PlayStoreScrapperConfig,\n",
    "    PlayStoreScrapperSource,\n",
    ")\n",
    "\n",
    "# Sentiment Analyzer imports\n",
    "from obsei.analyzer.sentiment_analyzer import (\n",
    "    TransformersSentimentAnalyzerConfig,\n",
    "    TransformersSentimentAnalyzer,\n",
    ")\n",
    "\n",
    "# Pandas Informer imports\n",
    "from obsei.sink.pandas_sink import (\n",
    "    PandasSink,\n",
    "    PandasSinkConfig,\n",
    ")"
   ]
  },
  {
   "cell_type": "markdown",
   "id": "8882fbc8-3b72-4662-937c-b84f6ce66f58",
   "metadata": {},
   "source": [
    "### Variables"
   ]
  },
  {
   "cell_type": "code",
   "execution_count": 3,
   "id": "b01a3d05-42d5-4ece-a32c-d1645d6341c0",
   "metadata": {
    "execution": {
     "iopub.execute_input": "2021-08-28T19:48:10.422599Z",
     "iopub.status.busy": "2021-08-28T19:48:10.421305Z",
     "iopub.status.idle": "2021-08-28T19:48:10.429681Z",
     "shell.execute_reply": "2021-08-28T19:48:10.429079Z",
     "shell.execute_reply.started": "2021-08-28T19:48:10.422573Z"
    }
   },
   "outputs": [],
   "source": [
    "# Variables for Google Play Store Observer\n",
    "app_name = \"Gmail\"\n",
    "app_url = 'https://play.google.com/store/apps/details?id=com.google.android.gm&hl=en_IN&gl=US' # This is app url of Gmail App\n",
    "max_reviews = 10\n",
    "\n",
    "# Variable for Sentiment Analyzer\n",
    "sentiment_model = \"typeform/mobilebert-uncased-mnli\" # Refer link for supported models: https://huggingface.co/models?filter=zero-shot-classification\n",
    "\n",
    "# Variables for Pandas Informer\n",
    "app_name_col = \"app name\"\n",
    "included_cols = []\n",
    "included_cols.append(\"segmented_data_classifier_data_positive\")\n",
    "included_cols.append(\"segmented_data_classifier_data_negative\")\n",
    "included_cols.append(\"processed_text\")\n",
    "included_cols.append(\"meta_at\")\n",
    "included_cols.append(\"meta_score\")\n",
    "\n",
    "rename_cols_dict = {}\n",
    "rename_cols_dict[\"segmented_data_classifier_data_positive\"] = \"positive\"\n",
    "rename_cols_dict[\"segmented_data_classifier_data_negative\"] = \"negative\"\n",
    "rename_cols_dict[\"processed_text\"] = \"review\"\n",
    "rename_cols_dict[\"meta_at\"] = \"time\"\n",
    "rename_cols_dict[\"meta_score\"] = \"rating\"\n",
    "\n",
    "cols_order_list = [app_name_col, \"time\", \"rating\", \"review\", \"positive\", \"negative\"]"
   ]
  },
  {
   "cell_type": "markdown",
   "id": "freelance-venture",
   "metadata": {
    "papermill": {},
    "tags": []
   },
   "source": [
    "## Model"
   ]
  },
  {
   "cell_type": "markdown",
   "id": "914d181b-5efc-4a0b-aec5-cf080e7d6817",
   "metadata": {},
   "source": [
    "### Initialize Observer, Analyzer and Informer"
   ]
  },
  {
   "cell_type": "code",
   "execution_count": 4,
   "id": "express-exhibition",
   "metadata": {
    "execution": {
     "iopub.execute_input": "2021-08-28T19:48:10.431940Z",
     "iopub.status.busy": "2021-08-28T19:48:10.431773Z",
     "iopub.status.idle": "2021-08-28T19:48:22.400130Z",
     "shell.execute_reply": "2021-08-28T19:48:22.399482Z",
     "shell.execute_reply.started": "2021-08-28T19:48:10.431921Z"
    },
    "papermill": {},
    "tags": []
   },
   "outputs": [
    {
     "name": "stderr",
     "output_type": "stream",
     "text": [
      "08/28/2021 21:48:10 - INFO - filelock -   Lock 139664964729440 acquired on /home/ftp/.cache/huggingface/transformers/7d4ccfc6aefc75ac561aaa8c03d1909ae061a071ef8ce030b7d60c16a29d8f14.3d82be6bc6988b6ef939905f20dccd6e6f79f0568bfd1f7a0d2a4aac73f6b2ac.lock\n"
     ]
    },
    {
     "data": {
      "application/vnd.jupyter.widget-view+json": {
       "model_id": "54a515ae4783435c8300ab043526e189",
       "version_major": 2,
       "version_minor": 0
      },
      "text/plain": [
       "Downloading:   0%|          | 0.00/1.05k [00:00<?, ?B/s]"
      ]
     },
     "metadata": {},
     "output_type": "display_data"
    },
    {
     "name": "stderr",
     "output_type": "stream",
     "text": [
      "08/28/2021 21:48:11 - INFO - filelock -   Lock 139664964729440 released on /home/ftp/.cache/huggingface/transformers/7d4ccfc6aefc75ac561aaa8c03d1909ae061a071ef8ce030b7d60c16a29d8f14.3d82be6bc6988b6ef939905f20dccd6e6f79f0568bfd1f7a0d2a4aac73f6b2ac.lock\n",
      "08/28/2021 21:48:11 - INFO - filelock -   Lock 139661638883696 acquired on /home/ftp/.cache/huggingface/transformers/c36b4e96561ed2310bd22985d6a3383534a75eb5d53654c8546ae5c93eb79304.05b156a8fa85e157c1f69a668d2f66bd5ba5b7b25c756006f3d388e91e428735.lock\n"
     ]
    },
    {
     "data": {
      "application/vnd.jupyter.widget-view+json": {
       "model_id": "321f0bccaecc4d90b62a9a2c4ff77a45",
       "version_major": 2,
       "version_minor": 0
      },
      "text/plain": [
       "Downloading:   0%|          | 0.00/98.8M [00:00<?, ?B/s]"
      ]
     },
     "metadata": {},
     "output_type": "display_data"
    },
    {
     "name": "stderr",
     "output_type": "stream",
     "text": [
      "08/28/2021 21:48:17 - INFO - filelock -   Lock 139661638883696 released on /home/ftp/.cache/huggingface/transformers/c36b4e96561ed2310bd22985d6a3383534a75eb5d53654c8546ae5c93eb79304.05b156a8fa85e157c1f69a668d2f66bd5ba5b7b25c756006f3d388e91e428735.lock\n",
      "08/28/2021 21:48:19 - INFO - filelock -   Lock 139661607779056 acquired on /home/ftp/.cache/huggingface/transformers/28e88aa376340b5bd6252201db517163c53c08e457d94927ff6e3f7ded32adfe.d789d64ebfe299b0e416afc4a169632f903f693095b4629a7ea271d5a0cf2c99.lock\n"
     ]
    },
    {
     "data": {
      "application/vnd.jupyter.widget-view+json": {
       "model_id": "b9b8f898fe3747a4bfaf15087dafd05c",
       "version_major": 2,
       "version_minor": 0
      },
      "text/plain": [
       "Downloading:   0%|          | 0.00/232k [00:00<?, ?B/s]"
      ]
     },
     "metadata": {},
     "output_type": "display_data"
    },
    {
     "name": "stderr",
     "output_type": "stream",
     "text": [
      "08/28/2021 21:48:19 - INFO - filelock -   Lock 139661607779056 released on /home/ftp/.cache/huggingface/transformers/28e88aa376340b5bd6252201db517163c53c08e457d94927ff6e3f7ded32adfe.d789d64ebfe299b0e416afc4a169632f903f693095b4629a7ea271d5a0cf2c99.lock\n",
      "08/28/2021 21:48:21 - INFO - filelock -   Lock 139661607777712 acquired on /home/ftp/.cache/huggingface/transformers/eb4b7bc7fef4e269bac1a75616a49625ba8265688495f9844d8212258adc3883.dd8bd9bfd3664b530ea4e645105f557769387b3da9f79bdb55ed556bdd80611d.lock\n"
     ]
    },
    {
     "data": {
      "application/vnd.jupyter.widget-view+json": {
       "model_id": "7f4048a7c356407b80edf28cd036cfc2",
       "version_major": 2,
       "version_minor": 0
      },
      "text/plain": [
       "Downloading:   0%|          | 0.00/112 [00:00<?, ?B/s]"
      ]
     },
     "metadata": {},
     "output_type": "display_data"
    },
    {
     "name": "stderr",
     "output_type": "stream",
     "text": [
      "08/28/2021 21:48:21 - INFO - filelock -   Lock 139661607777712 released on /home/ftp/.cache/huggingface/transformers/eb4b7bc7fef4e269bac1a75616a49625ba8265688495f9844d8212258adc3883.dd8bd9bfd3664b530ea4e645105f557769387b3da9f79bdb55ed556bdd80611d.lock\n",
      "08/28/2021 21:48:21 - INFO - filelock -   Lock 139661607666112 acquired on /home/ftp/.cache/huggingface/transformers/9d98ed764fc17d357d3cbe8a2e9836f07f5234e25119e35fea48dcbd5d5d0130.658a1922a1a2a2912ec0beca90e7381d6796532f6ea000c7a35e25acc3ec4584.lock\n"
     ]
    },
    {
     "data": {
      "application/vnd.jupyter.widget-view+json": {
       "model_id": "75a1e07412ff4cbfa8c2168fd4923e2a",
       "version_major": 2,
       "version_minor": 0
      },
      "text/plain": [
       "Downloading:   0%|          | 0.00/268 [00:00<?, ?B/s]"
      ]
     },
     "metadata": {},
     "output_type": "display_data"
    },
    {
     "name": "stderr",
     "output_type": "stream",
     "text": [
      "08/28/2021 21:48:22 - INFO - filelock -   Lock 139661607666112 released on /home/ftp/.cache/huggingface/transformers/9d98ed764fc17d357d3cbe8a2e9836f07f5234e25119e35fea48dcbd5d5d0130.658a1922a1a2a2912ec0beca90e7381d6796532f6ea000c7a35e25acc3ec4584.lock\n"
     ]
    }
   ],
   "source": [
    "# Initialize Google Play Store Observer and it's config\n",
    "play_observer_config = PlayStoreScrapperConfig(\n",
    "    app_url=app_url,\n",
    "    max_count=max_reviews,\n",
    ")\n",
    "play_observer = PlayStoreScrapperSource()\n",
    "\n",
    "# Initialize Sentiment Analyzer and it's config\n",
    "sentiment_analyzer_config=TransformersSentimentAnalyzerConfig()\n",
    "\n",
    "sentiment_analyzer = TransformersSentimentAnalyzer(\n",
    "   model_name_or_path=sentiment_model\n",
    ")\n",
    "\n",
    "# Initialize Pandas Informer and it's config\n",
    "pandas_informer_config = PandasSinkConfig(\n",
    "   include_columns_list=included_cols\n",
    ")\n",
    "pandas_informer = PandasSink()"
   ]
  },
  {
   "cell_type": "markdown",
   "id": "b0442bff-f8c9-4e74-8abf-8b79c7c92026",
   "metadata": {},
   "source": [
    "### Execute Obsei Workflow"
   ]
  },
  {
   "cell_type": "code",
   "execution_count": 5,
   "id": "521abd48-71f5-458c-905b-32c885fdb972",
   "metadata": {
    "execution": {
     "iopub.execute_input": "2021-08-28T19:48:33.396822Z",
     "iopub.status.busy": "2021-08-28T19:48:33.396584Z",
     "iopub.status.idle": "2021-08-28T19:48:33.401995Z",
     "shell.execute_reply": "2021-08-28T19:48:33.401446Z",
     "shell.execute_reply.started": "2021-08-28T19:48:33.396799Z"
    }
   },
   "outputs": [],
   "source": [
    "def execute_obsei_workflow(\n",
    "    observer,\n",
    "    observer_config,\n",
    "    analyzer,\n",
    "    analyzer_config,\n",
    "    informer,\n",
    "    informer_config\n",
    "):\n",
    "    observer_responses = observer.lookup(observer_config)\n",
    "    analyzer_responses = analyzer.analyze_input(observer_responses, analyzer_config)\n",
    "    dataframe = informer.send_data(analyzer_responses, informer_config)\n",
    "    return dataframe"
   ]
  },
  {
   "cell_type": "markdown",
   "id": "86e14ceb-c417-4ea5-a16b-1bdbb077705d",
   "metadata": {},
   "source": [
    "### Make DataFrame more presentable"
   ]
  },
  {
   "cell_type": "code",
   "execution_count": 6,
   "id": "aa697495-e5bd-4836-84dc-3b9e947c8e11",
   "metadata": {
    "execution": {
     "iopub.execute_input": "2021-08-28T19:48:35.160208Z",
     "iopub.status.busy": "2021-08-28T19:48:35.159956Z",
     "iopub.status.idle": "2021-08-28T19:48:35.163815Z",
     "shell.execute_reply": "2021-08-28T19:48:35.163176Z",
     "shell.execute_reply.started": "2021-08-28T19:48:35.160185Z"
    }
   },
   "outputs": [],
   "source": [
    "def beautify_dataframe(\n",
    "    dataframe,\n",
    "    rename_cols,\n",
    "    name,\n",
    "    name_col,\n",
    "    order_list\n",
    "):\n",
    "    dataframe.rename(rename_cols, axis=1, inplace=True)\n",
    "    dataframe[name_col] = name\n",
    "    return dataframe[order_list]"
   ]
  },
  {
   "cell_type": "markdown",
   "id": "signal-sterling",
   "metadata": {
    "papermill": {},
    "tags": []
   },
   "source": [
    "## Output"
   ]
  },
  {
   "cell_type": "code",
   "execution_count": 7,
   "id": "expected-apollo",
   "metadata": {
    "execution": {
     "iopub.execute_input": "2021-08-28T19:48:37.409787Z",
     "iopub.status.busy": "2021-08-28T19:48:37.409481Z",
     "iopub.status.idle": "2021-08-28T19:48:38.226659Z",
     "shell.execute_reply": "2021-08-28T19:48:38.225989Z",
     "shell.execute_reply.started": "2021-08-28T19:48:37.409756Z"
    },
    "papermill": {},
    "tags": []
   },
   "outputs": [
    {
     "name": "stderr",
     "output_type": "stream",
     "text": [
      "Asking to truncate to max_length but no maximum length is provided and the model has no predefined maximum length. Default to no truncation.\n"
     ]
    },
    {
     "data": {
      "text/html": [
       "<div>\n",
       "<style scoped>\n",
       "    .dataframe tbody tr th:only-of-type {\n",
       "        vertical-align: middle;\n",
       "    }\n",
       "\n",
       "    .dataframe tbody tr th {\n",
       "        vertical-align: top;\n",
       "    }\n",
       "\n",
       "    .dataframe thead th {\n",
       "        text-align: right;\n",
       "    }\n",
       "</style>\n",
       "<table border=\"1\" class=\"dataframe\">\n",
       "  <thead>\n",
       "    <tr style=\"text-align: right;\">\n",
       "      <th></th>\n",
       "      <th>app name</th>\n",
       "      <th>time</th>\n",
       "      <th>rating</th>\n",
       "      <th>review</th>\n",
       "      <th>positive</th>\n",
       "      <th>negative</th>\n",
       "    </tr>\n",
       "  </thead>\n",
       "  <tbody>\n",
       "    <tr>\n",
       "      <th>0</th>\n",
       "      <td>Gmail</td>\n",
       "      <td>2021-08-28 21:46:34</td>\n",
       "      <td>3</td>\n",
       "      <td>Its a seven</td>\n",
       "      <td>0.54</td>\n",
       "      <td>0.46</td>\n",
       "    </tr>\n",
       "    <tr>\n",
       "      <th>1</th>\n",
       "      <td>Gmail</td>\n",
       "      <td>2021-08-28 21:46:33</td>\n",
       "      <td>5</td>\n",
       "      <td>Great app had it for a couple of years runs gr...</td>\n",
       "      <td>1.00</td>\n",
       "      <td>0.00</td>\n",
       "    </tr>\n",
       "    <tr>\n",
       "      <th>2</th>\n",
       "      <td>Gmail</td>\n",
       "      <td>2021-08-28 21:45:57</td>\n",
       "      <td>5</td>\n",
       "      <td>Prefect 5 star</td>\n",
       "      <td>1.00</td>\n",
       "      <td>0.00</td>\n",
       "    </tr>\n",
       "    <tr>\n",
       "      <th>3</th>\n",
       "      <td>Gmail</td>\n",
       "      <td>2021-08-28 21:42:34</td>\n",
       "      <td>1</td>\n",
       "      <td>thangs</td>\n",
       "      <td>0.56</td>\n",
       "      <td>0.44</td>\n",
       "    </tr>\n",
       "    <tr>\n",
       "      <th>4</th>\n",
       "      <td>Gmail</td>\n",
       "      <td>2021-08-28 21:41:50</td>\n",
       "      <td>3</td>\n",
       "      <td>Good</td>\n",
       "      <td>1.00</td>\n",
       "      <td>0.00</td>\n",
       "    </tr>\n",
       "    <tr>\n",
       "      <th>5</th>\n",
       "      <td>Gmail</td>\n",
       "      <td>2021-08-28 21:40:15</td>\n",
       "      <td>5</td>\n",
       "      <td>Its gud</td>\n",
       "      <td>0.62</td>\n",
       "      <td>0.38</td>\n",
       "    </tr>\n",
       "    <tr>\n",
       "      <th>6</th>\n",
       "      <td>Gmail</td>\n",
       "      <td>2021-08-28 21:40:14</td>\n",
       "      <td>5</td>\n",
       "      <td>Nice</td>\n",
       "      <td>1.00</td>\n",
       "      <td>0.00</td>\n",
       "    </tr>\n",
       "    <tr>\n",
       "      <th>7</th>\n",
       "      <td>Gmail</td>\n",
       "      <td>2021-08-28 21:39:24</td>\n",
       "      <td>5</td>\n",
       "      <td>Nice</td>\n",
       "      <td>1.00</td>\n",
       "      <td>0.00</td>\n",
       "    </tr>\n",
       "    <tr>\n",
       "      <th>8</th>\n",
       "      <td>Gmail</td>\n",
       "      <td>2021-08-28 21:38:07</td>\n",
       "      <td>5</td>\n",
       "      <td>Very good</td>\n",
       "      <td>1.00</td>\n",
       "      <td>0.00</td>\n",
       "    </tr>\n",
       "    <tr>\n",
       "      <th>9</th>\n",
       "      <td>Gmail</td>\n",
       "      <td>2021-08-28 21:36:51</td>\n",
       "      <td>4</td>\n",
       "      <td>I dont have a probleme</td>\n",
       "      <td>0.91</td>\n",
       "      <td>0.09</td>\n",
       "    </tr>\n",
       "  </tbody>\n",
       "</table>\n",
       "</div>"
      ],
      "text/plain": [
       "  app name                time  rating  \\\n",
       "0    Gmail 2021-08-28 21:46:34       3   \n",
       "1    Gmail 2021-08-28 21:46:33       5   \n",
       "2    Gmail 2021-08-28 21:45:57       5   \n",
       "3    Gmail 2021-08-28 21:42:34       1   \n",
       "4    Gmail 2021-08-28 21:41:50       3   \n",
       "5    Gmail 2021-08-28 21:40:15       5   \n",
       "6    Gmail 2021-08-28 21:40:14       5   \n",
       "7    Gmail 2021-08-28 21:39:24       5   \n",
       "8    Gmail 2021-08-28 21:38:07       5   \n",
       "9    Gmail 2021-08-28 21:36:51       4   \n",
       "\n",
       "                                              review positive negative  \n",
       "0                                        Its a seven     0.54     0.46  \n",
       "1  Great app had it for a couple of years runs gr...     1.00     0.00  \n",
       "2                                     Prefect 5 star     1.00     0.00  \n",
       "3                                             thangs     0.56     0.44  \n",
       "4                                               Good     1.00     0.00  \n",
       "5                                            Its gud     0.62     0.38  \n",
       "6                                               Nice     1.00     0.00  \n",
       "7                                               Nice     1.00     0.00  \n",
       "8                                          Very good     1.00     0.00  \n",
       "9                             I dont have a probleme     0.91     0.09  "
      ]
     },
     "execution_count": 7,
     "metadata": {},
     "output_type": "execute_result"
    }
   ],
   "source": [
    "df = execute_obsei_workflow(\n",
    "    play_observer,\n",
    "    play_observer_config,\n",
    "    sentiment_analyzer,\n",
    "    sentiment_analyzer_config,\n",
    "    pandas_informer,\n",
    "    pandas_informer_config\n",
    ")\n",
    "\n",
    "df = beautify_dataframe(\n",
    "    df,\n",
    "    rename_cols_dict,\n",
    "    app_name,\n",
    "    app_name_col,\n",
    "    cols_order_list\n",
    ")\n",
    "\n",
    "df"
   ]
  },
  {
   "cell_type": "code",
   "execution_count": null,
   "id": "ed4cc5c2-25a5-4b06-920b-7d2804858012",
   "metadata": {},
   "outputs": [],
   "source": []
  }
 ],
 "metadata": {
  "kernelspec": {
   "display_name": "Python 3",
   "language": "python",
   "name": "python3"
  },
  "language_info": {
   "codemirror_mode": {
    "name": "ipython",
    "version": 3
   },
   "file_extension": ".py",
   "mimetype": "text/x-python",
   "name": "python",
   "nbconvert_exporter": "python",
   "pygments_lexer": "ipython3",
   "version": "3.8.8"
  },
  "papermill": {
   "default_parameters": {},
   "environment_variables": {},
   "parameters": {},
   "version": "2.3.3"
  }
 },
 "nbformat": 4,
 "nbformat_minor": 5
}
