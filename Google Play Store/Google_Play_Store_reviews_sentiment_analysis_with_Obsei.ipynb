{
 "cells": [
  {
   "cell_type": "markdown",
   "id": "tribal-wyoming",
   "metadata": {
    "papermill": {},
    "tags": []
   },
   "source": [
    "<p style=\"text-align: center\">\n",
    "    <img width=\"10%\" alt=\"Naas\" src=\"https://landen.imgix.net/jtci2pxwjczr/assets/5ice39g4.png?w=160\"/>\n",
    "</p>"
   ]
  },
  {
   "cell_type": "markdown",
   "id": "f443e5d1-34b5-4aa5-b619-6cd6c773f2cf",
   "metadata": {
    "papermill": {},
    "tags": []
   },
   "source": [
    "# Google Play Store - Get sentiment analysis on app reviews using Obsei\n",
    "\n",
    "<p style=\"text-align: center\">\n",
    "    <a href=\"https://app.naas.ai/user-redirect/naas/downloader?url=https://raw.githubusercontent.com/jupyter-naas/awesome-notebooks/master/Google%20Play%20Store/Google_Play_Store_reviews_sentiment_analysis_with_Obsei.ipynb\" target=\"_parent\">\n",
    "        <img src=\"https://img.shields.io/badge/-Open%20in%20Naas-success?labelColor=000000&logo=data:image/svg+xml;base64,PD94bWwgdmVyc2lvbj0iMS4wIiBlbmNvZGluZz0iVVRGLTgiPz4KPHN2ZyB3aWR0aD0iMTAyNHB4IiBoZWlnaHQ9IjEwMjRweCIgdmlld0JveD0iMCAwIDEwMjQgMTAyNCIgeG1sbnM9Imh0dHA6Ly93d3cudzMub3JnLzIwMDAvc3ZnIiB4bWxuczp4bGluaz0iaHR0cDovL3d3dy53My5vcmcvMTk5OS94bGluayIgdmVyc2lvbj0iMS4xIj4KIDwhLS0gR2VuZXJhdGVkIGJ5IFBpeGVsbWF0b3IgUHJvIDIuMC41IC0tPgogPGRlZnM+CiAgPHRleHQgaWQ9InN0cmluZyIgdHJhbnNmb3JtPSJtYXRyaXgoMS4wIDAuMCAwLjAgMS4wIDIyOC4wIDU0LjUpIiBmb250LWZhbWlseT0iQ29tZm9ydGFhLVJlZ3VsYXIsIENvbWZvcnRhYSIgZm9udC1zaXplPSI4MDAiIHRleHQtZGVjb3JhdGlvbj0ibm9uZSIgZmlsbD0iI2ZmZmZmZiIgeD0iMS4xOTk5OTk5OTk5OTk5ODg2IiB5PSI3MDUuMCI+bjwvdGV4dD4KIDwvZGVmcz4KIDx1c2UgaWQ9Im4iIHhsaW5rOmhyZWY9IiNzdHJpbmciLz4KPC9zdmc+Cg==\"/>\n",
    "    </a>\n",
    "</p>"
   ]
  },
  {
   "cell_type": "markdown",
   "id": "574fa5e0-84ad-47f7-9240-75c27fcf4f75",
   "metadata": {},
   "source": [
    "<p style=\"text-align: center\">\n",
    "    <a href=\"https://github.com/obsei/obsei\">\n",
    "        <img width=\"5%\" alt=\"Obsei\" src=\"https://raw.githubusercontent.com/obsei/obsei-resources/master/logos/obsei_200x200.png?w=50\"/>\n",
    "    </a>\n",
    "</p>"
   ]
  },
  {
   "cell_type": "markdown",
   "id": "49160e60-821a-4756-8dba-ef125e2171a1",
   "metadata": {},
   "source": [
    "<p style=\"text-align: center\">\n",
    "    <img width=\"3%\" alt=\"PlayStore\" src=\"https://raw.githubusercontent.com/obsei/obsei-resources/master/logos/playstore.png\"/>\n",
    "    <img width=\"5.5%\" alt=\"Arraow\" src=\"https://freepngimg.com/thumb/direction/21565-6-green-arrow-hd.png\"/>\n",
    "    <img width=\"3%\" alt=\"Sentiment\" src=\"https://raw.githubusercontent.com/obsei/obsei-resources/master/logos/sentiment.png\"/>\n",
    "    <img width=\"5.5%\" alt=\"Arraow\" src=\"https://freepngimg.com/thumb/direction/21565-6-green-arrow-hd.png\"/>\n",
    "    <img width=\"3%\" alt=\"Pandas\" src=\"https://raw.githubusercontent.com/obsei/obsei-resources/master/logos/pandas.svg\"/>\n",
    "</p>"
   ]
  },
  {
   "cell_type": "markdown",
   "id": "f3cde881-2e38-4868-90e4-8dd132ee0f28",
   "metadata": {},
   "source": [
    "## Input"
   ]
  },
  {
   "cell_type": "markdown",
   "id": "weird-currency",
   "metadata": {
    "papermill": {},
    "tags": []
   },
   "source": [
    "### Pip install Obsei"
   ]
  },
  {
   "cell_type": "code",
   "execution_count": null,
   "id": "ab700dba-37dc-403c-aecd-f25d0efaa952",
   "metadata": {
    "tags": []
   },
   "outputs": [],
   "source": [
    "!pip install git+git://github.com/obsei/obsei@master#egg=obsei"
   ]
  },
  {
   "cell_type": "markdown",
   "id": "2db57e62-128b-40c9-bc77-8731fb0a82b4",
   "metadata": {},
   "source": [
    "### Import library"
   ]
  },
  {
   "cell_type": "code",
   "execution_count": null,
   "id": "eaac440d-d65e-40c8-adf8-3f0cef38fdeb",
   "metadata": {
    "papermill": {},
    "tags": []
   },
   "outputs": [],
   "source": [
    "# Google Play Store Observer imports\n",
    "from obsei.source.playstore_scrapper import (\n",
    "    PlayStoreScrapperConfig,\n",
    "    PlayStoreScrapperSource,\n",
    ")\n",
    "\n",
    "# Sentiment Analyzer imports\n",
    "from obsei.analyzer.sentiment_analyzer import (\n",
    "    TransformersSentimentAnalyzerConfig,\n",
    "    TransformersSentimentAnalyzer,\n",
    ")\n",
    "\n",
    "# Pandas Informer imports\n",
    "from obsei.sink.pandas_sink import (\n",
    "    PandasSink,\n",
    "    PandasSinkConfig,\n",
    ")"
   ]
  },
  {
   "cell_type": "markdown",
   "id": "8882fbc8-3b72-4662-937c-b84f6ce66f58",
   "metadata": {},
   "source": [
    "### Variables"
   ]
  },
  {
   "cell_type": "code",
   "execution_count": null,
   "id": "b01a3d05-42d5-4ece-a32c-d1645d6341c0",
   "metadata": {},
   "outputs": [],
   "source": [
    "# Variables for Google Play Store Observer\n",
    "app_name = \"Gmail\"\n",
    "app_url = 'https://play.google.com/store/apps/details?id=com.google.android.gm&hl=en_IN&gl=US' # This is app url of Gmail App\n",
    "max_reviews = 10\n",
    "\n",
    "# Variable for Sentiment Analyzer\n",
    "sentiment_model = \"typeform/mobilebert-uncased-mnli\" # Refer link for supported models: https://huggingface.co/models?filter=zero-shot-classification\n",
    "\n",
    "# Variables for Pandas Informer\n",
    "app_name_col = \"app name\"\n",
    "included_cols = []\n",
    "included_cols.append(\"segmented_data_classifier_data_positive\")\n",
    "included_cols.append(\"segmented_data_classifier_data_negative\")\n",
    "included_cols.append(\"processed_text\")\n",
    "included_cols.append(\"meta_at\")\n",
    "included_cols.append(\"meta_score\")\n",
    "\n",
    "rename_cols_dict = {}\n",
    "rename_cols_dict[\"segmented_data_classifier_data_positive\"] = \"positive\"\n",
    "rename_cols_dict[\"segmented_data_classifier_data_negative\"] = \"negative\"\n",
    "rename_cols_dict[\"processed_text\"] = \"review\"\n",
    "rename_cols_dict[\"meta_at\"] = \"time\"\n",
    "rename_cols_dict[\"meta_score\"] = \"rating\"\n",
    "\n",
    "cols_order_list = [app_name_col, \"time\", \"rating\", \"review\", \"positive\", \"negative\"]"
   ]
  },
  {
   "cell_type": "markdown",
   "id": "freelance-venture",
   "metadata": {
    "papermill": {},
    "tags": []
   },
   "source": [
    "## Model"
   ]
  },
  {
   "cell_type": "markdown",
   "id": "914d181b-5efc-4a0b-aec5-cf080e7d6817",
   "metadata": {},
   "source": [
    "### Initialize Observer, Analyzer and Informer"
   ]
  },
  {
   "cell_type": "code",
   "execution_count": null,
   "id": "express-exhibition",
   "metadata": {
    "papermill": {},
    "tags": []
   },
   "outputs": [],
   "source": [
    "# Initialize Google Play Store Observer and it's config\n",
    "play_observer_config = PlayStoreScrapperConfig(\n",
    "    app_url=app_url,\n",
    "    max_count=max_reviews,\n",
    ")\n",
    "play_observer = PlayStoreScrapperSource()\n",
    "\n",
    "# Initialize Sentiment Analyzer and it's config\n",
    "sentiment_analyzer_config=TransformersSentimentAnalyzerConfig()\n",
    "\n",
    "sentiment_analyzer = TransformersSentimentAnalyzer(\n",
    "   model_name_or_path=sentiment_model\n",
    ")\n",
    "\n",
    "# Initialize Pandas Informer and it's config\n",
    "pandas_informer_config = PandasSinkConfig(\n",
    "   include_columns_list=included_cols\n",
    ")\n",
    "pandas_informer = PandasSink()"
   ]
  },
  {
   "cell_type": "markdown",
   "id": "b0442bff-f8c9-4e74-8abf-8b79c7c92026",
   "metadata": {},
   "source": [
    "### Execute Obsei Workflow"
   ]
  },
  {
   "cell_type": "code",
   "execution_count": null,
   "id": "521abd48-71f5-458c-905b-32c885fdb972",
   "metadata": {},
   "outputs": [],
   "source": [
    "def execute_obsei_workflow(\n",
    "    observer,\n",
    "    observer_config,\n",
    "    analyzer,\n",
    "    analyzer_config,\n",
    "    informer,\n",
    "    informer_config\n",
    "):\n",
    "    observer_responses = observer.lookup(observer_config)\n",
    "    analyzer_responses = analyzer.analyze_input(observer_responses, analyzer_config)\n",
    "    dataframe = informer.send_data(analyzer_responses, informer_config)\n",
    "    return dataframe"
   ]
  },
  {
   "cell_type": "markdown",
   "id": "86e14ceb-c417-4ea5-a16b-1bdbb077705d",
   "metadata": {},
   "source": [
    "### Make DataFrame more presentable"
   ]
  },
  {
   "cell_type": "code",
   "execution_count": null,
   "id": "aa697495-e5bd-4836-84dc-3b9e947c8e11",
   "metadata": {},
   "outputs": [],
   "source": [
    "def beautify_dataframe(\n",
    "    dataframe,\n",
    "    rename_cols,\n",
    "    name,\n",
    "    name_col,\n",
    "    order_list\n",
    "):\n",
    "    dataframe.rename(rename_cols, axis=1, inplace=True)\n",
    "    dataframe[name_col] = name\n",
    "    return dataframe[order_list]"
   ]
  },
  {
   "cell_type": "markdown",
   "id": "signal-sterling",
   "metadata": {
    "papermill": {},
    "tags": []
   },
   "source": [
    "## Output"
   ]
  },
  {
   "cell_type": "code",
   "execution_count": null,
   "id": "expected-apollo",
   "metadata": {
    "papermill": {},
    "tags": []
   },
   "outputs": [],
   "source": [
    "df = execute_obsei_workflow(\n",
    "    play_observer,\n",
    "    play_observer_config,\n",
    "    sentiment_analyzer,\n",
    "    sentiment_analyzer_config,\n",
    "    pandas_informer,\n",
    "    pandas_informer_config\n",
    ")\n",
    "\n",
    "df = beautify_dataframe(\n",
    "    df,\n",
    "    rename_cols_dict,\n",
    "    app_name,\n",
    "    app_name_col,\n",
    "    cols_order_list\n",
    ")\n",
    "\n",
    "df"
   ]
  },
  {
   "cell_type": "code",
   "execution_count": null,
   "id": "ed4cc5c2-25a5-4b06-920b-7d2804858012",
   "metadata": {},
   "outputs": [],
   "source": []
  }
 ],
 "metadata": {
  "kernelspec": {
   "display_name": "Python 3",
   "language": "python",
   "name": "python3"
  },
  "language_info": {
   "codemirror_mode": {
    "name": "ipython",
    "version": 3
   },
   "file_extension": ".py",
   "mimetype": "text/x-python",
   "name": "python",
   "nbconvert_exporter": "python",
   "pygments_lexer": "ipython3",
   "version": "3.8.8"
  },
  "papermill": {
   "default_parameters": {},
   "environment_variables": {},
   "parameters": {},
   "version": "2.3.3"
  }
 },
 "nbformat": 4,
 "nbformat_minor": 5
}
