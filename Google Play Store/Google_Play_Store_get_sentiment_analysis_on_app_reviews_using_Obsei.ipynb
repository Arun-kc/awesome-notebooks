{
 "cells": [
  {
   "cell_type": "markdown",
   "id": "tribal-wyoming",
   "metadata": {
    "papermill": {},
    "tags": []
   },
   "source": [
    "<p style=\"text-align: center\">\n",
    "    <img width=\"10%\" alt=\"Naas\" src=\"https://landen.imgix.net/jtci2pxwjczr/assets/5ice39g4.png?w=160\"/>\n",
    "</p>"
   ]
  },
  {
   "cell_type": "markdown",
   "id": "f443e5d1-34b5-4aa5-b619-6cd6c773f2cf",
   "metadata": {
    "papermill": {},
    "tags": []
   },
   "source": [
    "# Google Play Store - Get sentiment analysis on app reviews using Obsei\n",
    "\n",
    "<p style=\"text-align: center\">\n",
    "    <a href=\"https://app.naas.ai/user-redirect/naas/downloader?url=https://raw.githubusercontent.com/jupyter-naas/awesome-notebooks/master/Google%20Play%20Store/Google_Play_Store_get_sentiment_analysis_on_app_reviews_using_Obsei.ipynb\" target=\"_parent\">\n",
    "        <img src=\"https://img.shields.io/badge/-Open%20in%20Naas-success?labelColor=000000&logo=data:image/svg+xml;base64,PD94bWwgdmVyc2lvbj0iMS4wIiBlbmNvZGluZz0iVVRGLTgiPz4KPHN2ZyB3aWR0aD0iMTAyNHB4IiBoZWlnaHQ9IjEwMjRweCIgdmlld0JveD0iMCAwIDEwMjQgMTAyNCIgeG1sbnM9Imh0dHA6Ly93d3cudzMub3JnLzIwMDAvc3ZnIiB4bWxuczp4bGluaz0iaHR0cDovL3d3dy53My5vcmcvMTk5OS94bGluayIgdmVyc2lvbj0iMS4xIj4KIDwhLS0gR2VuZXJhdGVkIGJ5IFBpeGVsbWF0b3IgUHJvIDIuMC41IC0tPgogPGRlZnM+CiAgPHRleHQgaWQ9InN0cmluZyIgdHJhbnNmb3JtPSJtYXRyaXgoMS4wIDAuMCAwLjAgMS4wIDIyOC4wIDU0LjUpIiBmb250LWZhbWlseT0iQ29tZm9ydGFhLVJlZ3VsYXIsIENvbWZvcnRhYSIgZm9udC1zaXplPSI4MDAiIHRleHQtZGVjb3JhdGlvbj0ibm9uZSIgZmlsbD0iI2ZmZmZmZiIgeD0iMS4xOTk5OTk5OTk5OTk5ODg2IiB5PSI3MDUuMCI+bjwvdGV4dD4KIDwvZGVmcz4KIDx1c2UgaWQ9Im4iIHhsaW5rOmhyZWY9IiNzdHJpbmciLz4KPC9zdmc+Cg==\"/>\n",
    "    </a>\n",
    "</p>"
   ]
  },
  {
   "cell_type": "markdown",
   "id": "574fa5e0-84ad-47f7-9240-75c27fcf4f75",
   "metadata": {},
   "source": [
    "<p style=\"text-align: center\">\n",
    "    <a href=\"https://github.com/obsei/obsei\">\n",
    "        <img width=\"5%\" alt=\"Obsei\" src=\"https://raw.githubusercontent.com/obsei/obsei-resources/master/logos/obsei_200x200.png?w=50\"/>\n",
    "    </a>\n",
    "</p>"
   ]
  },
  {
   "cell_type": "markdown",
   "id": "49160e60-821a-4756-8dba-ef125e2171a1",
   "metadata": {},
   "source": [
    "<p style=\"text-align: center\">\n",
    "    <img width=\"3%\" alt=\"PlayStore\" src=\"https://raw.githubusercontent.com/obsei/obsei-resources/master/logos/playstore.png\"/>\n",
    "    <img width=\"5.5%\" alt=\"Arraow\" src=\"https://freepngimg.com/thumb/direction/21565-6-green-arrow-hd.png\"/>\n",
    "    <img width=\"3%\" alt=\"Sentiment\" src=\"https://raw.githubusercontent.com/obsei/obsei-resources/master/logos/sentiment.png\"/>\n",
    "    <img width=\"5.5%\" alt=\"Arraow\" src=\"https://freepngimg.com/thumb/direction/21565-6-green-arrow-hd.png\"/>\n",
    "    <img width=\"3%\" alt=\"Pandas\" src=\"https://raw.githubusercontent.com/obsei/obsei-resources/master/logos/pandas.svg\"/>\n",
    "</p>"
   ]
  },
  {
   "cell_type": "markdown",
   "id": "f3cde881-2e38-4868-90e4-8dd132ee0f28",
   "metadata": {},
   "source": [
    "## Input"
   ]
  },
  {
   "cell_type": "markdown",
   "id": "weird-currency",
   "metadata": {
    "papermill": {},
    "tags": []
   },
   "source": [
    "### Pip install Obsei"
   ]
  },
  {
   "cell_type": "code",
   "execution_count": null,
   "id": "fea1abf4-44c9-47de-acf2-a12624566eb1",
   "metadata": {},
   "outputs": [],
   "source": []
  },
  {
   "cell_type": "code",
   "execution_count": 1,
   "id": "ab700dba-37dc-403c-aecd-f25d0efaa952",
   "metadata": {
    "execution": {
     "iopub.execute_input": "2021-08-31T12:44:57.148055Z",
     "iopub.status.busy": "2021-08-31T12:44:57.147795Z",
     "iopub.status.idle": "2021-08-31T12:45:07.393446Z",
     "shell.execute_reply": "2021-08-31T12:45:07.382580Z",
     "shell.execute_reply.started": "2021-08-31T12:44:57.147993Z"
    },
    "tags": []
   },
   "outputs": [
    {
     "name": "stdout",
     "output_type": "stream",
     "text": [
      "Collecting obsei\n",
      "  Cloning git://github.com/obsei/obsei (to revision master) to /tmp/pip-install-a8f8wyyt/obsei_c47bc88190fd483e90760ac9a51c97cc\n",
      "  Running command git clone -q git://github.com/obsei/obsei /tmp/pip-install-a8f8wyyt/obsei_c47bc88190fd483e90760ac9a51c97cc\n",
      "  Resolved git://github.com/obsei/obsei to commit 8373b0198a0719fc0244c6d03ffd1a37ec4088f7\n",
      "Requirement already satisfied: app-store-reviews-reader==1.2 in /home/ftp/.local/lib/python3.8/site-packages (from obsei) (1.2)\n",
      "Requirement already satisfied: atlassian-python-api==3.10.0 in /home/ftp/.local/lib/python3.8/site-packages (from obsei) (3.10.0)\n",
      "Requirement already satisfied: beautifulsoup4==4.9.3 in /opt/conda/lib/python3.8/site-packages (from obsei) (4.9.3)\n",
      "Requirement already satisfied: blis==0.7.4 in /home/ftp/.local/lib/python3.8/site-packages (from obsei) (0.7.4)\n",
      "Requirement already satisfied: cachetools==4.2.2 in /opt/conda/lib/python3.8/site-packages (from obsei) (4.2.2)\n",
      "Requirement already satisfied: catalogue==2.0.4 in /home/ftp/.local/lib/python3.8/site-packages (from obsei) (2.0.4)\n",
      "Requirement already satisfied: certifi==2021.5.30 in /home/ftp/.local/lib/python3.8/site-packages (from obsei) (2021.5.30)\n",
      "Requirement already satisfied: chardet==4.0.0 in /home/ftp/.local/lib/python3.8/site-packages (from obsei) (4.0.0)\n",
      "Requirement already satisfied: click==7.1.2 in /home/ftp/.local/lib/python3.8/site-packages (from obsei) (7.1.2)\n",
      "Requirement already satisfied: courlan==0.4.0 in /home/ftp/.local/lib/python3.8/site-packages (from obsei) (0.4.0)\n",
      "Requirement already satisfied: cssselect==1.1.0 in /home/ftp/.local/lib/python3.8/site-packages (from obsei) (1.1.0)\n",
      "Requirement already satisfied: cymem==2.0.5 in /home/ftp/.local/lib/python3.8/site-packages (from obsei) (2.0.5)\n",
      "Requirement already satisfied: dateparser==1.0.0 in /home/ftp/.local/lib/python3.8/site-packages (from obsei) (1.0.0)\n",
      "Requirement already satisfied: deprecated==1.2.12 in /home/ftp/.local/lib/python3.8/site-packages (from obsei) (1.2.12)\n",
      "Requirement already satisfied: elasticsearch==7.13.1 in /home/ftp/.local/lib/python3.8/site-packages (from obsei) (7.13.1)\n",
      "Requirement already satisfied: feedparser==6.0.2 in /home/ftp/.local/lib/python3.8/site-packages (from obsei) (6.0.2)\n",
      "Requirement already satisfied: filelock==3.0.12 in /opt/conda/lib/python3.8/site-packages (from obsei) (3.0.12)\n",
      "Requirement already satisfied: gnews==0.1.3 in /home/ftp/.local/lib/python3.8/site-packages (from obsei) (0.1.3)\n",
      "Requirement already satisfied: google-api-core==1.30.0 in /home/ftp/.local/lib/python3.8/site-packages (from obsei) (1.30.0)\n",
      "Requirement already satisfied: google-api-python-client==2.8.0 in /home/ftp/.local/lib/python3.8/site-packages (from obsei) (2.8.0)\n",
      "Requirement already satisfied: google-auth==1.30.2 in /home/ftp/.local/lib/python3.8/site-packages (from obsei) (1.30.2)\n",
      "Requirement already satisfied: google-auth-httplib2==0.1.0 in /opt/conda/lib/python3.8/site-packages (from obsei) (0.1.0)\n",
      "Requirement already satisfied: google-play-scraper==1.0.0 in /home/ftp/.local/lib/python3.8/site-packages (from obsei) (1.0.0)\n",
      "Requirement already satisfied: googleapis-common-protos==1.53.0 in /opt/conda/lib/python3.8/site-packages (from obsei) (1.53.0)\n",
      "Requirement already satisfied: greenlet==1.1.0 in /home/ftp/.local/lib/python3.8/site-packages (from obsei) (1.1.0)\n",
      "Requirement already satisfied: htmldate==0.8.1 in /home/ftp/.local/lib/python3.8/site-packages (from obsei) (0.8.1)\n",
      "Requirement already satisfied: httplib2==0.19.1 in /opt/conda/lib/python3.8/site-packages (from obsei) (0.19.1)\n",
      "Requirement already satisfied: huggingface-hub==0.0.8 in /opt/conda/lib/python3.8/site-packages (from obsei) (0.0.8)\n",
      "Requirement already satisfied: idna==2.10 in /opt/conda/lib/python3.8/site-packages (from obsei) (2.10)\n",
      "Requirement already satisfied: importlib-metadata==4.5.0 in /home/ftp/.local/lib/python3.8/site-packages (from obsei) (4.5.0)\n",
      "Requirement already satisfied: jinja2==3.0.1 in /home/ftp/.local/lib/python3.8/site-packages (from obsei) (3.0.1)\n",
      "Requirement already satisfied: joblib==1.0.1 in /opt/conda/lib/python3.8/site-packages (from obsei) (1.0.1)\n",
      "Requirement already satisfied: justext==2.2.0 in /home/ftp/.local/lib/python3.8/site-packages (from obsei) (2.2.0)\n",
      "Requirement already satisfied: lxml==4.6.3 in /opt/conda/lib/python3.8/site-packages (from obsei) (4.6.3)\n",
      "Requirement already satisfied: markupsafe==2.0.1 in /home/ftp/.local/lib/python3.8/site-packages (from obsei) (2.0.1)\n",
      "Requirement already satisfied: mmh3==3.0.0 in /home/ftp/.local/lib/python3.8/site-packages (from obsei) (3.0.0)\n",
      "Requirement already satisfied: murmurhash==1.0.5 in /home/ftp/.local/lib/python3.8/site-packages (from obsei) (1.0.5)\n",
      "Requirement already satisfied: nltk==3.6.2 in /home/ftp/.local/lib/python3.8/site-packages (from obsei) (3.6.2)\n",
      "Requirement already satisfied: numpy==1.20.3 in /home/ftp/.local/lib/python3.8/site-packages (from obsei) (1.20.3)\n",
      "Requirement already satisfied: oauthlib==3.1.1 in /home/ftp/.local/lib/python3.8/site-packages (from obsei) (3.1.1)\n",
      "Requirement already satisfied: packaging==20.9 in /opt/conda/lib/python3.8/site-packages (from obsei) (20.9)\n",
      "Requirement already satisfied: pandas==1.2.4 in /opt/conda/lib/python3.8/site-packages (from obsei) (1.2.4)\n",
      "Requirement already satisfied: pathy==0.5.2 in /home/ftp/.local/lib/python3.8/site-packages (from obsei) (0.5.2)\n",
      "Requirement already satisfied: praw==7.2.0 in /home/ftp/.local/lib/python3.8/site-packages (from obsei) (7.2.0)\n",
      "Requirement already satisfied: prawcore==2.1.0 in /home/ftp/.local/lib/python3.8/site-packages (from obsei) (2.1.0)\n",
      "Requirement already satisfied: preshed==3.0.5 in /home/ftp/.local/lib/python3.8/site-packages (from obsei) (3.0.5)\n",
      "Requirement already satisfied: presidio-analyzer==2.2.1 in /home/ftp/.local/lib/python3.8/site-packages (from obsei) (2.2.1)\n",
      "Requirement already satisfied: presidio-anonymizer==2.2.1 in /home/ftp/.local/lib/python3.8/site-packages (from obsei) (2.2.1)\n",
      "Requirement already satisfied: protobuf==3.17.3 in /opt/conda/lib/python3.8/site-packages (from obsei) (3.17.3)\n",
      "Requirement already satisfied: pyasn1==0.4.8 in /opt/conda/lib/python3.8/site-packages (from obsei) (0.4.8)\n",
      "Requirement already satisfied: pyasn1-modules==0.2.8 in /opt/conda/lib/python3.8/site-packages (from obsei) (0.2.8)\n",
      "Requirement already satisfied: pycryptodome==3.10.1 in /home/ftp/.local/lib/python3.8/site-packages (from obsei) (3.10.1)\n",
      "Requirement already satisfied: pydantic==1.7.4 in /home/ftp/.local/lib/python3.8/site-packages (from obsei) (1.7.4)\n",
      "Requirement already satisfied: pyparsing==2.4.7 in /opt/conda/lib/python3.8/site-packages (from obsei) (2.4.7)\n",
      "Requirement already satisfied: python-dateutil==2.8.1 in /opt/conda/lib/python3.8/site-packages (from obsei) (2.8.1)\n",
      "Requirement already satisfied: python-facebook-api==0.9.2 in /home/ftp/.local/lib/python3.8/site-packages (from obsei) (0.9.2)\n",
      "Requirement already satisfied: pytz==2021.1 in /opt/conda/lib/python3.8/site-packages (from obsei) (2021.1)\n",
      "Requirement already satisfied: pyyaml==5.4.1 in /opt/conda/lib/python3.8/site-packages (from obsei) (5.4.1)\n",
      "Requirement already satisfied: readability-lxml==0.8.1 in /home/ftp/.local/lib/python3.8/site-packages (from obsei) (0.8.1)\n",
      "Requirement already satisfied: reddit-rss-reader==1.3.2 in /home/ftp/.local/lib/python3.8/site-packages (from obsei) (1.3.2)\n",
      "Requirement already satisfied: regex==2020.11.13 in /home/ftp/.local/lib/python3.8/site-packages (from obsei) (2020.11.13)\n",
      "Requirement already satisfied: requests==2.25.1 in /opt/conda/lib/python3.8/site-packages (from obsei) (2.25.1)\n",
      "Requirement already satisfied: requests-file==1.5.1 in /home/ftp/.local/lib/python3.8/site-packages (from obsei) (1.5.1)\n",
      "Requirement already satisfied: requests-oauthlib==1.3.0 in /opt/conda/lib/python3.8/site-packages (from obsei) (1.3.0)\n",
      "Requirement already satisfied: rsa==4.7.2 in /opt/conda/lib/python3.8/site-packages (from obsei) (4.7.2)\n",
      "Requirement already satisfied: sacremoses==0.0.45 in /opt/conda/lib/python3.8/site-packages (from obsei) (0.0.45)\n",
      "Requirement already satisfied: searchtweets-v2==1.0.7 in /home/ftp/.local/lib/python3.8/site-packages (from obsei) (1.0.7)\n",
      "Requirement already satisfied: sentencepiece==0.1.95 in /home/ftp/.local/lib/python3.8/site-packages (from obsei) (0.1.95)\n",
      "Requirement already satisfied: sgmllib3k==1.0.0 in /home/ftp/.local/lib/python3.8/site-packages (from obsei) (1.0.0)\n",
      "Requirement already satisfied: six==1.16.0 in /home/ftp/.local/lib/python3.8/site-packages (from obsei) (1.16.0)\n",
      "Requirement already satisfied: slack-sdk==3.6.0 in /home/ftp/.local/lib/python3.8/site-packages (from obsei) (3.6.0)\n",
      "Requirement already satisfied: smart-open==3.0.0 in /home/ftp/.local/lib/python3.8/site-packages (from obsei) (3.0.0)\n",
      "Requirement already satisfied: soupsieve==2.2.1 in /opt/conda/lib/python3.8/site-packages (from obsei) (2.2.1)\n",
      "Requirement already satisfied: spacy==3.0.5 in /home/ftp/.local/lib/python3.8/site-packages (from obsei) (3.0.5)\n",
      "Requirement already satisfied: spacy-legacy==3.0.5 in /home/ftp/.local/lib/python3.8/site-packages (from obsei) (3.0.5)\n",
      "Requirement already satisfied: sqlalchemy==1.4.17 in /home/ftp/.local/lib/python3.8/site-packages (from obsei) (1.4.17)\n",
      "Requirement already satisfied: srsly==2.4.1 in /home/ftp/.local/lib/python3.8/site-packages (from obsei) (2.4.1)\n",
      "Requirement already satisfied: thinc==8.0.4 in /home/ftp/.local/lib/python3.8/site-packages (from obsei) (8.0.4)\n",
      "Requirement already satisfied: tld==0.12.6 in /home/ftp/.local/lib/python3.8/site-packages (from obsei) (0.12.6)\n",
      "Requirement already satisfied: tldextract==3.1.0 in /home/ftp/.local/lib/python3.8/site-packages (from obsei) (3.1.0)\n",
      "Requirement already satisfied: tokenizers==0.10.3 in /opt/conda/lib/python3.8/site-packages (from obsei) (0.10.3)\n",
      "Requirement already satisfied: tqdm==4.61.0 in /home/ftp/.local/lib/python3.8/site-packages (from obsei) (4.61.0)\n",
      "Requirement already satisfied: trafilatura==0.8.2 in /home/ftp/.local/lib/python3.8/site-packages (from obsei) (0.8.2)\n",
      "Requirement already satisfied: transformers==4.6.1 in /opt/conda/lib/python3.8/site-packages (from obsei) (4.6.1)\n",
      "Requirement already satisfied: tweet-preprocessor==0.6.0 in /home/ftp/.local/lib/python3.8/site-packages (from obsei) (0.6.0)\n",
      "Requirement already satisfied: typer==0.3.2 in /home/ftp/.local/lib/python3.8/site-packages (from obsei) (0.3.2)\n",
      "Requirement already satisfied: typing-extensions==3.10.0.0 in /opt/conda/lib/python3.8/site-packages (from obsei) (3.10.0.0)\n",
      "Requirement already satisfied: tzlocal==2.1 in /opt/conda/lib/python3.8/site-packages (from obsei) (2.1)\n",
      "Requirement already satisfied: update-checker==0.18.0 in /home/ftp/.local/lib/python3.8/site-packages (from obsei) (0.18.0)\n",
      "Requirement already satisfied: uritemplate==3.0.1 in /opt/conda/lib/python3.8/site-packages (from obsei) (3.0.1)\n",
      "Requirement already satisfied: urllib3==1.26.5 in /home/ftp/.local/lib/python3.8/site-packages (from obsei) (1.26.5)\n",
      "Requirement already satisfied: vadersentiment==3.3.2 in /opt/conda/lib/python3.8/site-packages (from obsei) (3.3.2)\n",
      "Requirement already satisfied: wasabi==0.8.2 in /home/ftp/.local/lib/python3.8/site-packages (from obsei) (0.8.2)\n",
      "Requirement already satisfied: websocket-client==1.0.1 in /home/ftp/.local/lib/python3.8/site-packages (from obsei) (1.0.1)\n",
      "Requirement already satisfied: wrapt==1.12.1 in /opt/conda/lib/python3.8/site-packages (from obsei) (1.12.1)\n",
      "Requirement already satisfied: zenpy==2.0.24 in /home/ftp/.local/lib/python3.8/site-packages (from obsei) (2.0.24)\n",
      "Requirement already satisfied: zipp==3.4.1 in /opt/conda/lib/python3.8/site-packages (from obsei) (3.4.1)\n",
      "Requirement already satisfied: torch==1.8.1 in /opt/conda/lib/python3.8/site-packages (from obsei) (1.8.1)\n",
      "Requirement already satisfied: setuptools>=40.3.0 in /opt/conda/lib/python3.8/site-packages (from google-api-core==1.30.0->obsei) (49.6.0.post20210108)\n",
      "Requirement already satisfied: attrs<21.0.0,>=20.1.0 in /opt/conda/lib/python3.8/site-packages (from python-facebook-api==0.9.2->obsei) (20.3.0)\n",
      "Requirement already satisfied: responses>=0.11 in /home/ftp/.local/lib/python3.8/site-packages (from python-facebook-api==0.9.2->obsei) (0.13.4)\n",
      "Requirement already satisfied: cattrs<2.0,>=1.1 in /home/ftp/.local/lib/python3.8/site-packages (from python-facebook-api==0.9.2->obsei) (1.8.0)\n"
     ]
    }
   ],
   "source": [
    "!pip install git+git://github.com/obsei/obsei@master#egg=obsei --user"
   ]
  },
  {
   "cell_type": "markdown",
   "id": "2db57e62-128b-40c9-bc77-8731fb0a82b4",
   "metadata": {},
   "source": [
    "### Import library"
   ]
  },
  {
   "cell_type": "code",
   "execution_count": null,
   "id": "eaac440d-d65e-40c8-adf8-3f0cef38fdeb",
   "metadata": {
    "papermill": {},
    "tags": []
   },
   "outputs": [],
   "source": [
    "# Google Play Store Observer imports\n",
    "from obsei.source.playstore_scrapper import (\n",
    "    PlayStoreScrapperConfig,\n",
    "    PlayStoreScrapperSource,\n",
    ")\n",
    "\n",
    "# Sentiment Analyzer imports\n",
    "from obsei.analyzer.sentiment_analyzer import (\n",
    "    TransformersSentimentAnalyzerConfig,\n",
    "    TransformersSentimentAnalyzer,\n",
    ")\n",
    "\n",
    "# Pandas Informer imports\n",
    "from obsei.sink.pandas_sink import (\n",
    "    PandasSink,\n",
    "    PandasSinkConfig,\n",
    ")"
   ]
  },
  {
   "cell_type": "markdown",
   "id": "8882fbc8-3b72-4662-937c-b84f6ce66f58",
   "metadata": {},
   "source": [
    "### Variables"
   ]
  },
  {
   "cell_type": "code",
   "execution_count": null,
   "id": "b01a3d05-42d5-4ece-a32c-d1645d6341c0",
   "metadata": {},
   "outputs": [],
   "source": [
    "# Variables for Google Play Store Observer\n",
    "app_name = \"Gmail\"\n",
    "app_url = 'https://play.google.com/store/apps/details?id=com.google.android.gm&hl=en_IN&gl=US' # This is app url of Gmail App\n",
    "max_reviews = 10\n",
    "\n",
    "# Variable for Sentiment Analyzer\n",
    "sentiment_model = \"typeform/mobilebert-uncased-mnli\" # Refer link for supported models: https://huggingface.co/models?filter=zero-shot-classification\n",
    "\n",
    "# Variables for Pandas Informer\n",
    "app_name_col = \"app name\"\n",
    "included_cols = []\n",
    "included_cols.append(\"segmented_data_classifier_data_positive\")\n",
    "included_cols.append(\"segmented_data_classifier_data_negative\")\n",
    "included_cols.append(\"processed_text\")\n",
    "included_cols.append(\"meta_at\")\n",
    "included_cols.append(\"meta_score\")\n",
    "\n",
    "rename_cols_dict = {}\n",
    "rename_cols_dict[\"segmented_data_classifier_data_positive\"] = \"positive\"\n",
    "rename_cols_dict[\"segmented_data_classifier_data_negative\"] = \"negative\"\n",
    "rename_cols_dict[\"processed_text\"] = \"review\"\n",
    "rename_cols_dict[\"meta_at\"] = \"time\"\n",
    "rename_cols_dict[\"meta_score\"] = \"rating\"\n",
    "\n",
    "cols_order_list = [app_name_col, \"time\", \"rating\", \"review\", \"positive\", \"negative\"]"
   ]
  },
  {
   "cell_type": "markdown",
   "id": "freelance-venture",
   "metadata": {
    "papermill": {},
    "tags": []
   },
   "source": [
    "## Model"
   ]
  },
  {
   "cell_type": "markdown",
   "id": "914d181b-5efc-4a0b-aec5-cf080e7d6817",
   "metadata": {},
   "source": [
    "### Initialize Observer, Analyzer and Informer"
   ]
  },
  {
   "cell_type": "code",
   "execution_count": null,
   "id": "express-exhibition",
   "metadata": {
    "papermill": {},
    "tags": []
   },
   "outputs": [],
   "source": [
    "# Initialize Google Play Store Observer and it's config\n",
    "play_observer_config = PlayStoreScrapperConfig(\n",
    "    app_url=app_url,\n",
    "    max_count=max_reviews,\n",
    ")\n",
    "play_observer = PlayStoreScrapperSource()\n",
    "\n",
    "# Initialize Sentiment Analyzer and it's config\n",
    "sentiment_analyzer_config=TransformersSentimentAnalyzerConfig()\n",
    "\n",
    "sentiment_analyzer = TransformersSentimentAnalyzer(\n",
    "   model_name_or_path=sentiment_model\n",
    ")\n",
    "\n",
    "# Initialize Pandas Informer and it's config\n",
    "pandas_informer_config = PandasSinkConfig(\n",
    "   include_columns_list=included_cols\n",
    ")\n",
    "pandas_informer = PandasSink()"
   ]
  },
  {
   "cell_type": "markdown",
   "id": "b0442bff-f8c9-4e74-8abf-8b79c7c92026",
   "metadata": {},
   "source": [
    "### Execute Obsei Workflow"
   ]
  },
  {
   "cell_type": "code",
   "execution_count": null,
   "id": "521abd48-71f5-458c-905b-32c885fdb972",
   "metadata": {},
   "outputs": [],
   "source": [
    "def execute_obsei_workflow(\n",
    "    observer,\n",
    "    observer_config,\n",
    "    analyzer,\n",
    "    analyzer_config,\n",
    "    informer,\n",
    "    informer_config\n",
    "):\n",
    "    observer_responses = observer.lookup(observer_config)\n",
    "    analyzer_responses = analyzer.analyze_input(observer_responses, analyzer_config)\n",
    "    dataframe = informer.send_data(analyzer_responses, informer_config)\n",
    "    return dataframe"
   ]
  },
  {
   "cell_type": "markdown",
   "id": "86e14ceb-c417-4ea5-a16b-1bdbb077705d",
   "metadata": {},
   "source": [
    "### Make DataFrame more presentable"
   ]
  },
  {
   "cell_type": "code",
   "execution_count": null,
   "id": "aa697495-e5bd-4836-84dc-3b9e947c8e11",
   "metadata": {},
   "outputs": [],
   "source": [
    "def beautify_dataframe(\n",
    "    dataframe,\n",
    "    rename_cols,\n",
    "    name,\n",
    "    name_col,\n",
    "    order_list\n",
    "):\n",
    "    dataframe.rename(rename_cols, axis=1, inplace=True)\n",
    "    dataframe[name_col] = name\n",
    "    return dataframe[order_list]"
   ]
  },
  {
   "cell_type": "markdown",
   "id": "signal-sterling",
   "metadata": {
    "papermill": {},
    "tags": []
   },
   "source": [
    "## Output"
   ]
  },
  {
   "cell_type": "code",
   "execution_count": null,
   "id": "expected-apollo",
   "metadata": {
    "papermill": {},
    "tags": []
   },
   "outputs": [],
   "source": [
    "df = execute_obsei_workflow(\n",
    "    play_observer,\n",
    "    play_observer_config,\n",
    "    sentiment_analyzer,\n",
    "    sentiment_analyzer_config,\n",
    "    pandas_informer,\n",
    "    pandas_informer_config\n",
    ")\n",
    "\n",
    "df = beautify_dataframe(\n",
    "    df,\n",
    "    rename_cols_dict,\n",
    "    app_name,\n",
    "    app_name_col,\n",
    "    cols_order_list\n",
    ")\n",
    "\n",
    "df"
   ]
  },
  {
   "cell_type": "code",
   "execution_count": null,
   "id": "ed4cc5c2-25a5-4b06-920b-7d2804858012",
   "metadata": {},
   "outputs": [],
   "source": []
  }
 ],
 "metadata": {
  "kernelspec": {
   "display_name": "Python 3",
   "language": "python",
   "name": "python3"
  },
  "language_info": {
   "codemirror_mode": {
    "name": "ipython",
    "version": 3
   },
   "file_extension": ".py",
   "mimetype": "text/x-python",
   "name": "python",
   "nbconvert_exporter": "python",
   "pygments_lexer": "ipython3",
   "version": "3.8.8"
  },
  "papermill": {
   "default_parameters": {},
   "environment_variables": {},
   "parameters": {},
   "version": "2.3.3"
  }
 },
 "nbformat": 4,
 "nbformat_minor": 5
}
