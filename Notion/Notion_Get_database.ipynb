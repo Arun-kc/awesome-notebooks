{
 "cells": [
  {
   "cell_type": "markdown",
   "id": "latin-packing",
   "metadata": {
    "execution": {
     "iopub.execute_input": "2021-02-23T14:22:16.610471Z",
     "iopub.status.busy": "2021-02-23T14:22:16.610129Z",
     "iopub.status.idle": "2021-02-23T14:22:16.627784Z",
     "shell.execute_reply": "2021-02-23T14:22:16.626866Z",
     "shell.execute_reply.started": "2021-02-23T14:22:16.610384Z"
    },
    "papermill": {},
    "tags": []
   },
   "source": [
    "<img width=\"10%\" alt=\"Naas\" src=\"https://landen.imgix.net/jtci2pxwjczr/assets/5ice39g4.png?w=160\"/>"
   ]
  },
  {
   "cell_type": "markdown",
   "id": "compressed-wilson",
   "metadata": {
    "papermill": {},
    "tags": []
   },
   "source": [
    "# Notion - Get database\n",
    "<a href=\"https://app.naas.ai/user-redirect/naas/downloader?url=https://raw.githubusercontent.com/jupyter-naas/awesome-notebooks/master/Notion/Notion_Get_database.ipynb\" target=\"_parent\"><img src=\"https://img.shields.io/badge/-Open%20in%20Naas-success?labelColor=000000&logo=data:image/svg+xml;base64,PD94bWwgdmVyc2lvbj0iMS4wIiBlbmNvZGluZz0iVVRGLTgiPz4KPHN2ZyB3aWR0aD0iMTAyNHB4IiBoZWlnaHQ9IjEwMjRweCIgdmlld0JveD0iMCAwIDEwMjQgMTAyNCIgeG1sbnM9Imh0dHA6Ly93d3cudzMub3JnLzIwMDAvc3ZnIiB4bWxuczp4bGluaz0iaHR0cDovL3d3dy53My5vcmcvMTk5OS94bGluayIgdmVyc2lvbj0iMS4xIj4KIDwhLS0gR2VuZXJhdGVkIGJ5IFBpeGVsbWF0b3IgUHJvIDIuMC41IC0tPgogPGRlZnM+CiAgPHRleHQgaWQ9InN0cmluZyIgdHJhbnNmb3JtPSJtYXRyaXgoMS4wIDAuMCAwLjAgMS4wIDIyOC4wIDU0LjUpIiBmb250LWZhbWlseT0iQ29tZm9ydGFhLVJlZ3VsYXIsIENvbWZvcnRhYSIgZm9udC1zaXplPSI4MDAiIHRleHQtZGVjb3JhdGlvbj0ibm9uZSIgZmlsbD0iI2ZmZmZmZiIgeD0iMS4xOTk5OTk5OTk5OTk5ODg2IiB5PSI3MDUuMCI+bjwvdGV4dD4KIDwvZGVmcz4KIDx1c2UgaWQ9Im4iIHhsaW5rOmhyZWY9IiNzdHJpbmciLz4KPC9zdmc+Cg==\"/></a>"
   ]
  },
  {
   "cell_type": "markdown",
   "id": "cbf7f260-f739-4e8f-9074-f070af12b69f",
   "metadata": {
    "papermill": {},
    "tags": []
   },
   "source": [
    "**Tags:** #notion #productivity"
   ]
  },
  {
   "cell_type": "markdown",
   "id": "distinguished-truth",
   "metadata": {
    "papermill": {},
    "tags": []
   },
   "source": [
    "## Input"
   ]
  },
  {
   "cell_type": "code",
   "execution_count": 3,
   "id": "ad7682bc-45f5-440d-b627-58804017f804",
   "metadata": {
    "execution": {
     "iopub.execute_input": "2021-10-18T12:39:05.659549Z",
     "iopub.status.busy": "2021-10-18T12:39:05.659313Z",
     "iopub.status.idle": "2021-10-18T12:39:11.555592Z",
     "shell.execute_reply": "2021-10-18T12:39:11.554912Z",
     "shell.execute_reply.started": "2021-10-18T12:39:05.659521Z"
    },
    "tags": []
   },
   "outputs": [
    {
     "name": "stdout",
     "output_type": "stream",
     "text": [
      "Requirement already satisfied: notion-client in /home/ftp/.local/lib/python3.8/site-packages (0.7.1)\n",
      "Requirement already satisfied: httpx>=0.15.0 in /opt/conda/lib/python3.8/site-packages (from notion-client) (0.15.4)\n",
      "Requirement already satisfied: rfc3986[idna2008]<2,>=1.3 in /opt/conda/lib/python3.8/site-packages (from httpx>=0.15.0->notion-client) (1.5.0)\n",
      "Requirement already satisfied: sniffio in /opt/conda/lib/python3.8/site-packages (from httpx>=0.15.0->notion-client) (1.2.0)\n",
      "Requirement already satisfied: certifi in /opt/conda/lib/python3.8/site-packages (from httpx>=0.15.0->notion-client) (2020.12.5)\n",
      "Requirement already satisfied: httpcore==0.11.* in /opt/conda/lib/python3.8/site-packages (from httpx>=0.15.0->notion-client) (0.11.1)\n",
      "Requirement already satisfied: h11<0.10,>=0.8 in /opt/conda/lib/python3.8/site-packages (from httpcore==0.11.*->httpx>=0.15.0->notion-client) (0.9.0)\n",
      "Requirement already satisfied: idna in /opt/conda/lib/python3.8/site-packages (from rfc3986[idna2008]<2,>=1.3->httpx>=0.15.0->notion-client) (2.10)\n",
      "Requirement already satisfied: dacite in /opt/conda/lib/python3.8/site-packages (1.6.0)\n"
     ]
    }
   ],
   "source": [
    "!pip install notion-client --user\n",
    "!pip install dacite --user"
   ]
  },
  {
   "cell_type": "markdown",
   "id": "b56e47f5-be89-4591-93ec-01e8fac50def",
   "metadata": {
    "papermill": {},
    "tags": []
   },
   "source": [
    "### Import library"
   ]
  },
  {
   "cell_type": "code",
   "execution_count": 4,
   "id": "6b63229c-7614-4dc8-ba2a-e0b1e2f64918",
   "metadata": {
    "execution": {
     "iopub.execute_input": "2021-10-18T12:39:11.557762Z",
     "iopub.status.busy": "2021-10-18T12:39:11.557307Z",
     "iopub.status.idle": "2021-10-18T12:39:11.714740Z",
     "shell.execute_reply": "2021-10-18T12:39:11.714042Z",
     "shell.execute_reply.started": "2021-10-18T12:39:11.557723Z"
    },
    "papermill": {},
    "tags": []
   },
   "outputs": [],
   "source": [
    "from notion import Notion\n",
    "notion = Notion()"
   ]
  },
  {
   "cell_type": "markdown",
   "id": "2665cb7f-1504-48d7-9d49-8b30fd80e359",
   "metadata": {
    "papermill": {},
    "tags": []
   },
   "source": [
    "### Variables"
   ]
  },
  {
   "cell_type": "code",
   "execution_count": 12,
   "id": "2fafe16a-ccca-43ae-88fd-eb23af803fe6",
   "metadata": {
    "execution": {
     "iopub.execute_input": "2021-10-18T12:41:47.986846Z",
     "iopub.status.busy": "2021-10-18T12:41:47.986624Z",
     "iopub.status.idle": "2021-10-18T12:41:47.989639Z",
     "shell.execute_reply": "2021-10-18T12:41:47.988982Z",
     "shell.execute_reply.started": "2021-10-18T12:41:47.986823Z"
    },
    "papermill": {},
    "tags": []
   },
   "outputs": [],
   "source": [
    "# Enter Notion Token API\n",
    "token = \"secret_R1CrUGn8bx9itbJW0Fc9Cc0R9Lmhbnz2ayqEe0GhRPq\"\n",
    "\n",
    "# Enter database url\n",
    "url = \"https://www.notion.so/d0bb915c4cb4422a87679f3bb9658282?v=8cd7c6ea0ec244da9eb65aa88a87aabb\""
   ]
  },
  {
   "cell_type": "markdown",
   "id": "registered-showcase",
   "metadata": {
    "papermill": {},
    "tags": []
   },
   "source": [
    "## Model"
   ]
  },
  {
   "cell_type": "markdown",
   "id": "835ada76-4f30-479e-bc91-1cba1bb36d07",
   "metadata": {
    "papermill": {},
    "tags": []
   },
   "source": [
    "### Get database"
   ]
  },
  {
   "cell_type": "code",
   "execution_count": 13,
   "id": "1af7daa4-9f16-42a1-a6fc-6b40aff1b4b9",
   "metadata": {
    "execution": {
     "iopub.execute_input": "2021-10-18T12:41:49.207816Z",
     "iopub.status.busy": "2021-10-18T12:41:49.207518Z",
     "iopub.status.idle": "2021-10-18T12:41:49.213896Z",
     "shell.execute_reply": "2021-10-18T12:41:49.213281Z",
     "shell.execute_reply.started": "2021-10-18T12:41:49.207786Z"
    },
    "tags": []
   },
   "outputs": [
    {
     "data": {
      "text/plain": [
       "'d0bb915c4cb4422a87679f3bb9658282'"
      ]
     },
     "execution_count": 13,
     "metadata": {},
     "output_type": "execute_result"
    }
   ],
   "source": [
    "database_id = url.rsplit(\"/\")[-1].rsplit(\"?\")[0]\n",
    "database_id"
   ]
  },
  {
   "cell_type": "code",
   "execution_count": 14,
   "id": "a3da2ed0-f1af-4706-8ace-7ed909c15237",
   "metadata": {
    "execution": {
     "iopub.execute_input": "2021-10-18T12:42:04.280105Z",
     "iopub.status.busy": "2021-10-18T12:42:04.279876Z",
     "iopub.status.idle": "2021-10-18T12:42:05.090758Z",
     "shell.execute_reply": "2021-10-18T12:42:05.090155Z",
     "shell.execute_reply.started": "2021-10-18T12:42:04.280082Z"
    },
    "papermill": {},
    "tags": []
   },
   "outputs": [],
   "source": [
    "df = notion.connect(token).databases.retrieve(database_id)"
   ]
  },
  {
   "cell_type": "markdown",
   "id": "display_cell",
   "metadata": {
    "papermill": {},
    "tags": []
   },
   "source": [
    "## Output"
   ]
  },
  {
   "cell_type": "markdown",
   "id": "9725f6d6-45cc-4211-a3de-93535e75fae6",
   "metadata": {
    "papermill": {},
    "tags": []
   },
   "source": [
    "### Display result"
   ]
  },
  {
   "cell_type": "code",
   "execution_count": 26,
   "id": "e3d350b3-9966-4cca-a6ed-a667d74f3ed9",
   "metadata": {
    "execution": {
     "iopub.execute_input": "2021-10-18T12:47:46.380382Z",
     "iopub.status.busy": "2021-10-18T12:47:46.380154Z",
     "iopub.status.idle": "2021-10-18T12:47:46.384404Z",
     "shell.execute_reply": "2021-10-18T12:47:46.383787Z",
     "shell.execute_reply.started": "2021-10-18T12:47:46.380357Z"
    },
    "papermill": {},
    "tags": []
   },
   "outputs": [
    {
     "data": {
      "text/plain": [
       "Database(title=[RichText(plain_text='Notion API test', href=None, annotations=Annotation(bold=False, italic=False, strikethrough=False, underline=False, code=False, color='default'), type='text', text=Text(content='Notion API test', link=None), user=None, page=None, database=None, date=None, equation=None)], properties={'Date': DatabasePropertyDate(id='%25%3Cxc', type='date', name='Date', date={}), 'Status': DatabasePropertySelect(id='HPge', type='select', name='Status', select=DatabasePropertySelect_Configuration(options=[DatabasePropertySelect_Configuration_Option(name='Contacted', id='72edc088-2390-4f53-b91f-50f709714c35', color='default'), DatabasePropertySelect_Configuration_Option(name='Scheduled', id='6ad3880b-260a-4d12-999f-5b605e096c1c', color='blue'), DatabasePropertySelect_Configuration_Option(name='Completed', id='127bc37b-c7cb-44bc-8e3f-f82cf170e6d8', color='green'), DatabasePropertySelect_Configuration_Option(name='Cancelled', id='fcbaf98f-edfb-4b19-800b-357ff8047207', color='orange'), DatabasePropertySelect_Configuration_Option(name='Waiting', id='a0e9cffa-91f7-486f-a341-5e6114ccf46f', color='red'), DatabasePropertySelect_Configuration_Option(name='Next up', id='2d9f67f2-db98-4b4e-9e7d-45c9b8f31afc', color='yellow')])), 'Jobs': DatabasePropertyMultiSelect(id='OLlA', type='multi_select', name='Jobs', multi_select=DatabasePropertySelect_Configuration(options=[DatabasePropertySelect_Configuration_Option(name='Rêveur  🚀', id='07075f7d-0217-44a1-8232-900a58e03167', color='blue'), DatabasePropertySelect_Configuration_Option(name='Savant fou', id='0ab888f2-a293-4d36-bdd5-c5233f2b13ed', color='red'), DatabasePropertySelect_Configuration_Option(name='surfer', id='e5a6ab9f-ad73-4c7d-b7ab-c592f4c42653', color='green'), DatabasePropertySelect_Configuration_Option(name='dancer', id='89445908-7721-4ea0-b1d6-394a3ac8394a', color='purple'), DatabasePropertySelect_Configuration_Option(name='Astronaut', id='c1c09b6e-7f74-479b-a714-4f5e0c147b66', color='gray'), DatabasePropertySelect_Configuration_Option(name='Danceur', id='3df2fdcd-379e-4eb4-b140-7de965ea7d10', color='orange'), DatabasePropertySelect_Configuration_Option(name='Chanteur', id='22ceea07-6221-4ad4-af96-7134665f41f1', color='yellow')])), 'Completion Time': DatabasePropertyNumber(id='Rxbq', type='number', name='Completion Time', number=DatabasePropertyNumber_Configuration(format='number')), 'Email': DatabasePropertyEmail(id='%5Bl%3Fr', type='email', name='Email', email={}), 'Maried': DatabasePropertyCheckbox(id='a%60y%7C', type='checkbox', name='Maried', checkbox={}), 'Interviewer': DatabasePropertyPeople(id='ml%3CX', type='people', name='Interviewer', people={}), 'Task': DatabasePropertySelect(id='tD%60A', type='select', name='Task', select=DatabasePropertySelect_Configuration(options=[DatabasePropertySelect_Configuration_Option(name='Onboarding Flow', id='a9ca2f70-6dd3-4a5e-bfa1-154233054d7e', color='default'), DatabasePropertySelect_Configuration_Option(name='Profile Editing', id='11882677-1edb-4e16-955d-b509531e32ee', color='default'), DatabasePropertySelect_Configuration_Option(name='Offline Mode', id='837b8457-c998-4516-95fb-f6bd6149e73e', color='default'), DatabasePropertySelect_Configuration_Option(name='Online Mode', id='9f76ed0f-af7d-445c-8d60-b09589ef7cee', color='brown'), DatabasePropertySelect_Configuration_Option(name='Onboard Flow', id='2c6b899f-d347-45fb-9c0b-1ceaa4b4d43d', color='green'), DatabasePropertySelect_Configuration_Option(name='Ok', id='93f4be78-1eab-4c3c-bab8-45fdc21a1f94', color='blue')])), 'Phone Number': DatabasePropertyPhoneNumber(id='%7Biiz', type='phone_number', name='Phone Number', phone_number={}), 'Name': DatabasePropertyTitle(id='title', type='title', name='Name', title={})}, parent=Parent(type='page_id', workspace=None, page_id='b2610c44-b8af-4860-9556-77729cdcf74c', database_id=None), icon=File(type='emoji', url=None, expiry_time=None, name=None, external=None), cover=None, created_time='2021-08-04T12:26:00.000Z', last_edited_time='2021-09-21T04:47:00.000Z', url='https://www.notion.so/d0bb915c4cb4422a87679f3bb9658282', object='database', id='d0bb915c-4cb4-422a-8767-9f3bb9658282')"
      ]
     },
     "execution_count": 26,
     "metadata": {},
     "output_type": "execute_result"
    }
   ],
   "source": [
    "df"
   ]
  },
  {
   "cell_type": "code",
   "execution_count": null,
   "id": "ba4994fe-ce66-41ae-bdda-f678854353b4",
   "metadata": {},
   "outputs": [],
   "source": []
  }
 ],
 "metadata": {
  "kernelspec": {
   "display_name": "Python 3",
   "language": "python",
   "name": "python3"
  },
  "language_info": {
   "codemirror_mode": {
    "name": "ipython",
    "version": 3
   },
   "file_extension": ".py",
   "mimetype": "text/x-python",
   "name": "python",
   "nbconvert_exporter": "python",
   "pygments_lexer": "ipython3",
   "version": "3.8.8"
  },
  "papermill": {
   "default_parameters": {},
   "environment_variables": {},
   "parameters": {},
   "version": "2.3.3"
  },
  "widgets": {
   "application/vnd.jupyter.widget-state+json": {
    "state": {},
    "version_major": 2,
    "version_minor": 0
   }
  }
 },
 "nbformat": 4,
 "nbformat_minor": 5
}
